{
  "nbformat": 4,
  "nbformat_minor": 0,
  "metadata": {
    "colab": {
      "name": "Try_Loop_LSA_Group_8.ipynb",
      "provenance": [],
      "collapsed_sections": []
    },
    "kernelspec": {
      "name": "python3",
      "display_name": "Python 3"
    },
    "accelerator": "GPU"
  },
  "cells": [
    {
      "cell_type": "code",
      "metadata": {
        "id": "vmbOWVcmIGnr",
        "colab_type": "code",
        "outputId": "138233b1-ef2e-4825-d8e5-c1a1d48aa917",
        "colab": {
          "base_uri": "https://localhost:8080/",
          "height": 51
        }
      },
      "source": [
        "# Identifying superclasses indexes\n",
        "# Identifying superclasses indexes\n",
        "import pandas as pd\n",
        "#1 Code to read csv file into colaboratory:\n",
        "!pip install -U -q PyDrive\n",
        "from pydrive.auth import GoogleAuth\n",
        "from pydrive.drive import GoogleDrive\n",
        "from google.colab import auth\n",
        "from oauth2client.client import GoogleCredentials\n",
        "\n",
        "# 1. Authenticate and create the PyDrive client.\n",
        "auth.authenticate_user()\n",
        "gauth = GoogleAuth()\n",
        "gauth.credentials = GoogleCredentials.get_application_default()\n",
        "drive = GoogleDrive(gauth)\n",
        "\n",
        "downloaded1 = drive.CreateFile({'id':'1IfioWuWPLvvMvkdVCflMh5v6xVfKwBxW'}) # replace the id with id of file you want to access\n",
        "downloaded1.GetContentFile('meta')\n",
        "\n",
        "def unpickle(file):\n",
        "    import pickle\n",
        "    with open(file, 'rb') as fo:\n",
        "        dict = pickle.load(fo, encoding='bytes')\n",
        "    return dict\n",
        "  \n",
        "meta = unpickle('meta')\n",
        "k=0\n",
        "# Looping through the list to find the index of vehicle 1 and vehicle 2\n",
        "for i in meta[b'coarse_label_names']:\n",
        "  if i==b'vehicles_1':\n",
        "    a = k\n",
        "  if i==b'vehicles_2':\n",
        "    b = k\n",
        "  k=k+1  \n",
        "print('Vehicle 1 index:',a,'\\nVehicle 2 index:',b)\n",
        "coarse = pd.DataFrame(meta[b'coarse_label_names'])\n",
        "fine = pd.DataFrame(meta[b'fine_label_names'])"
      ],
      "execution_count": 0,
      "outputs": [
        {
          "output_type": "stream",
          "text": [
            "Vehicle 1 index: 18 \n",
            "Vehicle 2 index: 19\n"
          ],
          "name": "stdout"
        }
      ]
    },
    {
      "cell_type": "markdown",
      "metadata": {
        "id": "93rZMf6_52cc",
        "colab_type": "text"
      },
      "source": [
        "## With Cifar-100 dataset in Keras"
      ]
    },
    {
      "cell_type": "code",
      "metadata": {
        "id": "8v9H5blS55E-",
        "colab_type": "code",
        "outputId": "5c051797-3008-421f-e060-b39877bb2cee",
        "colab": {
          "base_uri": "https://localhost:8080/",
          "height": 34
        }
      },
      "source": [
        "# install keras first\n",
        "!pip install dill\n",
        "!pip install -q keras"
      ],
      "execution_count": 0,
      "outputs": [
        {
          "output_type": "stream",
          "text": [
            "Requirement already satisfied: dill in /usr/local/lib/python3.6/dist-packages (0.3.1.1)\n"
          ],
          "name": "stdout"
        }
      ]
    },
    {
      "cell_type": "code",
      "metadata": {
        "id": "jrQ0o2Ac57Uy",
        "colab_type": "code",
        "colab": {}
      },
      "source": [
        "import os\n",
        "os.environ[\"THEANO_FLAGS\"] = \"mode=FAST_RUN,device=gpu,floatX=float32,TF_CPP_MIN_LOG_LEVEL=2\""
      ],
      "execution_count": 0,
      "outputs": []
    },
    {
      "cell_type": "code",
      "metadata": {
        "id": "O-g6hMo-590z",
        "colab_type": "code",
        "outputId": "4f35efdd-af60-44db-9627-c71301305ac2",
        "colab": {
          "base_uri": "https://localhost:8080/",
          "height": 80
        }
      },
      "source": [
        "from keras import backend as K\n",
        "if K.backend()=='tensorflow':\n",
        "    K.tensorflow_backend.set_image_dim_ordering(\"th\")"
      ],
      "execution_count": 0,
      "outputs": [
        {
          "output_type": "stream",
          "text": [
            "Using TensorFlow backend.\n"
          ],
          "name": "stderr"
        },
        {
          "output_type": "display_data",
          "data": {
            "text/html": [
              "<p style=\"color: red;\">\n",
              "The default version of TensorFlow in Colab will soon switch to TensorFlow 2.x.<br>\n",
              "We recommend you <a href=\"https://www.tensorflow.org/guide/migrate\" target=\"_blank\">upgrade</a> now \n",
              "or ensure your notebook will continue to use TensorFlow 1.x via the <code>%tensorflow_version 1.x</code> magic:\n",
              "<a href=\"https://colab.research.google.com/notebooks/tensorflow_version.ipynb\" target=\"_blank\">more info</a>.</p>\n"
            ],
            "text/plain": [
              "<IPython.core.display.HTML object>"
            ]
          },
          "metadata": {
            "tags": []
          }
        }
      ]
    },
    {
      "cell_type": "code",
      "metadata": {
        "id": "Oz1i5wfu5_w_",
        "colab_type": "code",
        "outputId": "dc92590f-7e57-4abf-d0f1-8a93bf84f2bb",
        "colab": {
          "base_uri": "https://localhost:8080/",
          "height": 34
        }
      },
      "source": [
        "#batch_size = 1000\n",
        "num_classes = 2\n",
        "'''\n",
        "epochs_longrun = 500\n",
        "save_dir = \"/work\"\n",
        "res_dir = \"/results\"\n",
        "model_name = 'convnet_cifar100'\n",
        "'''"
      ],
      "execution_count": 0,
      "outputs": [
        {
          "output_type": "execute_result",
          "data": {
            "text/plain": [
              "'\\nepochs_longrun = 500\\nsave_dir = \"/work\"\\nres_dir = \"/results\"\\nmodel_name = \\'convnet_cifar100\\'\\n'"
            ]
          },
          "metadata": {
            "tags": []
          },
          "execution_count": 5
        }
      ]
    },
    {
      "cell_type": "code",
      "metadata": {
        "id": "IzQEMJ-T6EB4",
        "colab_type": "code",
        "colab": {}
      },
      "source": [
        "from keras.datasets import cifar100"
      ],
      "execution_count": 0,
      "outputs": []
    },
    {
      "cell_type": "code",
      "metadata": {
        "id": "Gdu5AGPM6F9C",
        "colab_type": "code",
        "colab": {}
      },
      "source": [
        "from __future__ import print_function\n",
        "import tensorflow as tf\n",
        "import keras\n",
        "from keras.preprocessing.image import ImageDataGenerator\n",
        "from keras.models import Sequential\n",
        "from keras.layers.core import Dense, Dropout, Flatten, Activation\n",
        "from keras.layers.convolutional import Conv2D\n",
        "from keras.optimizers import Adam\n",
        "from keras.layers.pooling import MaxPooling2D\n",
        "from keras.callbacks import ModelCheckpoint,EarlyStopping\n",
        "from keras.utils import to_categorical\n",
        "from keras.models import load_model\n",
        "\n",
        "import os\n",
        "import numpy as np\n",
        "import pandas as pd\n",
        "import matplotlib.pyplot as plt\n",
        "from math import *\n",
        "from sklearn.model_selection import train_test_split\n",
        "from sklearn.preprocessing import StandardScaler\n",
        "import warnings\n",
        "warnings.filterwarnings('ignore')"
      ],
      "execution_count": 0,
      "outputs": []
    },
    {
      "cell_type": "code",
      "metadata": {
        "id": "qD8NyM4G6I8I",
        "colab_type": "code",
        "colab": {}
      },
      "source": [
        "def combinedf(x,y,z):\n",
        "  # Required subset of data in dataframe\n",
        "  x = x.reshape(x.shape[0],3*32*32)\n",
        "  images_df = pd.DataFrame(x, columns = list(range(0,3072)))\n",
        "  temp = pd.DataFrame(y, columns = ['Target'])\n",
        "  sub = pd.DataFrame(z, columns = ['Subtar'])\n",
        "  images_df = pd.concat([images_df,sub,temp],axis=1)\n",
        "  vehicle_images = images_df[(images_df['Target']==18) | (images_df['Target']==19) ]\n",
        "  vehicle_images['Subtar'] = fine[0][vehicle_images['Subtar']].values # Subtar holds the subclass values.\n",
        "  vehicle_images['Target'] = coarse[0][vehicle_images['Target']].values # Taget holds the superclass values\n",
        "  #vehicle_images.head()\n",
        "  return vehicle_images"
      ],
      "execution_count": 0,
      "outputs": []
    },
    {
      "cell_type": "code",
      "metadata": {
        "id": "fIo0oS4x6LCD",
        "colab_type": "code",
        "outputId": "8ee1ed09-f6d8-4ad8-eda5-f4490244fd5a",
        "colab": {
          "base_uri": "https://localhost:8080/",
          "height": 102
        }
      },
      "source": [
        "import tensorflow as tf\n",
        "import numpy as np\n",
        "from keras.utils import to_categorical\n",
        "tf.reset_default_graph()\n",
        "tf.set_random_seed(343)\n",
        "np.random.seed(343)\n",
        "# The data, shuffled and split between train and test sets:\n",
        "(x_train, y_train), (x_test, y_test) = cifar100.load_data(label_mode='coarse')\n",
        "(a_train, b_train), (a_test, b_test) = cifar100.load_data(label_mode='fine')\n",
        "print('x_train shape:', x_train.shape)\n",
        "print(x_train.shape[0], 'train samples')\n",
        "print(x_test.shape[0], 'test samples')\n",
        "trainset = combinedf(x_train,y_train,b_train)\n",
        "testset  = combinedf(x_test,y_test,b_test)"
      ],
      "execution_count": 0,
      "outputs": [
        {
          "output_type": "stream",
          "text": [
            "Downloading data from https://www.cs.toronto.edu/~kriz/cifar-100-python.tar.gz\n",
            "169009152/169001437 [==============================] - 6s 0us/step\n",
            "x_train shape: (50000, 3, 32, 32)\n",
            "50000 train samples\n",
            "10000 test samples\n"
          ],
          "name": "stdout"
        }
      ]
    },
    {
      "cell_type": "code",
      "metadata": {
        "id": "kNp7BE-i6V_8",
        "colab_type": "code",
        "colab": {}
      },
      "source": [
        "data = pd.concat([trainset,testset],axis=0)"
      ],
      "execution_count": 0,
      "outputs": []
    },
    {
      "cell_type": "code",
      "metadata": {
        "id": "8IeC0ExV6YKK",
        "colab_type": "code",
        "outputId": "0792bb45-d516-48aa-9966-34a7b2149cce",
        "colab": {
          "base_uri": "https://localhost:8080/",
          "height": 51
        }
      },
      "source": [
        "vehicle1 = np.unique(data[(data['Target']==b'vehicles_1')]['Subtar'])\n",
        "vehicle1"
      ],
      "execution_count": 0,
      "outputs": [
        {
          "output_type": "execute_result",
          "data": {
            "text/plain": [
              "array([b'bicycle', b'bus', b'motorcycle', b'pickup_truck', b'train'],\n",
              "      dtype=object)"
            ]
          },
          "metadata": {
            "tags": []
          },
          "execution_count": 11
        }
      ]
    },
    {
      "cell_type": "code",
      "metadata": {
        "id": "_a8Brly3mcAB",
        "colab_type": "code",
        "outputId": "84b1c01c-2a49-4a6f-a412-aded356bc449",
        "colab": {
          "base_uri": "https://localhost:8080/",
          "height": 51
        }
      },
      "source": [
        "vehicle2 = np.unique(data[(data['Target']==b'vehicles_2')]['Subtar'])\n",
        "vehicle2"
      ],
      "execution_count": 0,
      "outputs": [
        {
          "output_type": "execute_result",
          "data": {
            "text/plain": [
              "array([b'lawn_mower', b'rocket', b'streetcar', b'tank', b'tractor'],\n",
              "      dtype=object)"
            ]
          },
          "metadata": {
            "tags": []
          },
          "execution_count": 12
        }
      ]
    },
    {
      "cell_type": "code",
      "metadata": {
        "id": "tcKhdYJc6bHF",
        "colab_type": "code",
        "colab": {}
      },
      "source": [
        "v1s1 = b'motorcycle'\n",
        "v2s2 = b'lawn_mower'\n",
        "#v1s3 = b'pickup_truck'\n",
        "#v2s4 = b'streetcar'"
      ],
      "execution_count": 0,
      "outputs": []
    },
    {
      "cell_type": "code",
      "metadata": {
        "id": "pMZxXifK7rRF",
        "colab_type": "code",
        "colab": {}
      },
      "source": [
        "trainset = data[( (data['Subtar']!=v1s1) & (data['Subtar']!=v2s2))] \n",
        "testset = data[( (data['Subtar']==v1s1) | (data['Subtar']==v2s2))]"
      ],
      "execution_count": 0,
      "outputs": []
    },
    {
      "cell_type": "code",
      "metadata": {
        "id": "e2673gNVa3VB",
        "colab_type": "code",
        "outputId": "9013a45c-eca8-4792-cb65-abff49ed6892",
        "colab": {
          "base_uri": "https://localhost:8080/",
          "height": 34
        }
      },
      "source": [
        "trainset.shape"
      ],
      "execution_count": 0,
      "outputs": [
        {
          "output_type": "execute_result",
          "data": {
            "text/plain": [
              "(4800, 3074)"
            ]
          },
          "metadata": {
            "tags": []
          },
          "execution_count": 15
        }
      ]
    },
    {
      "cell_type": "code",
      "metadata": {
        "id": "-Bi_eSnZpRJ3",
        "colab_type": "code",
        "outputId": "cc7e95b9-8103-46e3-f580-46705d4d2474",
        "colab": {
          "base_uri": "https://localhost:8080/",
          "height": 34
        }
      },
      "source": [
        "data[( (data['Subtar']!=v1s1) & (data['Subtar']!=v2s2))].shape"
      ],
      "execution_count": 0,
      "outputs": [
        {
          "output_type": "execute_result",
          "data": {
            "text/plain": [
              "(4800, 3074)"
            ]
          },
          "metadata": {
            "tags": []
          },
          "execution_count": 16
        }
      ]
    },
    {
      "cell_type": "code",
      "metadata": {
        "id": "7X9OPPgepaOu",
        "colab_type": "code",
        "colab": {}
      },
      "source": [
        "X_train = trainset.drop(['Subtar','Target'],axis=1)\n",
        "y_train = trainset['Target']\n",
        "X_test = testset.drop(['Subtar','Target'],axis=1)\n",
        "y_test = testset['Target']"
      ],
      "execution_count": 0,
      "outputs": []
    },
    {
      "cell_type": "code",
      "metadata": {
        "id": "m3aNSMglpbtM",
        "colab_type": "code",
        "colab": {}
      },
      "source": [
        "# #Normalize data\n",
        "# X_train = X_train.astype('float32')\n",
        "# X_test = X_test.astype('float32')\n",
        "# X_train /= 255.0\n",
        "# X_test /= 255.0"
      ],
      "execution_count": 0,
      "outputs": []
    },
    {
      "cell_type": "code",
      "metadata": {
        "id": "irnffBzjpqdy",
        "colab_type": "code",
        "colab": {}
      },
      "source": [
        "y_train = pd.get_dummies(y_train,drop_first=True)\n",
        "y_test = pd.get_dummies(y_test,drop_first=True)"
      ],
      "execution_count": 0,
      "outputs": []
    },
    {
      "cell_type": "code",
      "metadata": {
        "id": "6hHs0TkN4z9x",
        "colab_type": "code",
        "outputId": "1d0a412b-73f1-4664-9f1b-b23fa865c57b",
        "colab": {
          "base_uri": "https://localhost:8080/",
          "height": 34
        }
      },
      "source": [
        "X_train.shape"
      ],
      "execution_count": 0,
      "outputs": [
        {
          "output_type": "execute_result",
          "data": {
            "text/plain": [
              "(4800, 3072)"
            ]
          },
          "metadata": {
            "tags": []
          },
          "execution_count": 19
        }
      ]
    },
    {
      "cell_type": "markdown",
      "metadata": {
        "id": "tpTtU37KjjKy",
        "colab_type": "text"
      },
      "source": [
        "## Random Forest"
      ]
    },
    {
      "cell_type": "markdown",
      "metadata": {
        "id": "nPPsmB_8zVQf",
        "colab_type": "text"
      },
      "source": [
        "# Looping"
      ]
    },
    {
      "cell_type": "code",
      "metadata": {
        "id": "BiachHu4zULj",
        "colab_type": "code",
        "colab": {}
      },
      "source": [
        " # Function for preparing the dataset\n",
        "  def dataprep(v1s1,v2s2):\n",
        "    trainset = data[( (data['Subtar']!=v1s1) & (data['Subtar']!=v2s2))] \n",
        "    testset = data[( (data['Subtar']==v1s1) | (data['Subtar']==v2s2))]\n",
        "    X_train = trainset.drop(['Subtar','Target'],axis=1)\n",
        "    y_train = trainset['Target']\n",
        "    X_test = testset.drop(['Subtar','Target'],axis=1)\n",
        "    y_test = testset['Target']\n",
        "    #Normalize data\n",
        "    # X_train = X_train.astype('float32')\n",
        "    # X_test = X_test.astype('float32')\n",
        "    # X_train /= 255.0\n",
        "    # X_test /= 255.0\n",
        "    y_train = pd.get_dummies(y_train,drop_first=True)\n",
        "    y_test = pd.get_dummies(y_test,drop_first=True)\n",
        "    return X_train,X_test,y_train,y_test"
      ],
      "execution_count": 0,
      "outputs": []
    },
    {
      "cell_type": "code",
      "metadata": {
        "id": "2G88SQ4DIhfp",
        "colab_type": "code",
        "colab": {}
      },
      "source": [
        "# To avoid warnings in the output.\n",
        "import os\n",
        "os.environ['TF_CPP_MIN_LOG_LEVEL'] = '3'\n",
        "tf.logging.set_verbosity(tf.logging.ERROR)"
      ],
      "execution_count": 0,
      "outputs": []
    },
    {
      "cell_type": "code",
      "metadata": {
        "id": "eJuSQLOBLxEm",
        "colab_type": "code",
        "colab": {}
      },
      "source": [
        "# To avoid warnings in the output.\n",
        "def warn(*args, **kwargs):\n",
        "  pass\n",
        "import warnings\n",
        "warnings.warn = warn"
      ],
      "execution_count": 0,
      "outputs": []
    },
    {
      "cell_type": "code",
      "metadata": {
        "id": "kHzOEEB0zAGc",
        "colab_type": "code",
        "outputId": "d76107c6-36db-48d0-f2f9-420e471fbf9b",
        "colab": {
          "base_uri": "https://localhost:8080/",
          "height": 1000
        }
      },
      "source": [
        "# Generating all 25 combinations and looping through each combination and calling RandomForest object each time :\n",
        "\n",
        "from itertools import combinations \n",
        "import pickle\n",
        "from sklearn.ensemble import RandomForestClassifier\n",
        "a = []\n",
        "b = []\n",
        "c = []\n",
        "\n",
        "a=vehicle1\n",
        "b=vehicle2    \n",
        "print(a)\n",
        "print(b)\n",
        "\n",
        "import time \n",
        "H=[]\n",
        "maxscore = -1\n",
        "for k in a:\n",
        "    for l in b:\n",
        "      v1s1 = k\n",
        "      v2s2 = l\n",
        "      os.environ[\"TF_CPP_MIN_LOG_LEVEL\"]=\"3\"\n",
        "      tf.logging.set_verbosity(tf.logging.ERROR)\n",
        "      X_train,X_test,y_train,y_test = dataprep(v1s1,v2s2)\n",
        "      X_train = X_train.values\n",
        "      X_test = X_test.values\n",
        "      X_train = X_train.reshape(X_train.shape[0],3*32*32)\n",
        "      X_test = X_test.reshape(X_test.shape[0],3*32*32)\n",
        "      from keras.utils import np_utils\n",
        "      # one hot encode outputs\n",
        "      #y_train = to_categorical(y_train,num_classes=2)\n",
        "      #y_test = to_categorical(y_test,num_classes=2)\n",
        "      #num_classes = y_test.shape[1]\n",
        "      H+= [[[v1s1],[v2s2]]]\n",
        "      print(v1s1,v2s2)\n",
        "      print(y_train.shape)\n",
        "      print(X_train.shape)\n",
        "      classifier = RandomForestClassifier(n_estimators = 155, criterion = 'entropy', random_state = 55)\n",
        "      start = time.clock()\n",
        "      classifier.fit(X_train, y_train)\n",
        "      end = time.clock()\n",
        "      print(\"Time take to fit the data:\",end - start)\n",
        "      start1 = time.clock()\n",
        "      y_pred = classifier.predict(X_test)\n",
        "      end1 = time.clock()\n",
        "      print(\"Time taken to predict the data:\",end1 - start1)\n",
        "      scores = classifier.score(X_test, y_test)\n",
        "      print(\"Accuracy: %.2f%%\" % (scores*100))\n",
        "      if(maxscore<scores):\n",
        "        maxscore = scores\n",
        "        dbfile = open('maxmodel.pkl', 'wb') \n",
        "        pickle.dump(classifier, dbfile)"
      ],
      "execution_count": 0,
      "outputs": [
        {
          "output_type": "stream",
          "text": [
            "[b'bicycle' b'bus' b'motorcycle' b'pickup_truck' b'train']\n",
            "[b'lawn_mower' b'rocket' b'streetcar' b'tank' b'tractor']\n",
            "b'bicycle' b'lawn_mower'\n",
            "(4800, 1)\n",
            "(4800, 3072)\n",
            "Time take to fit the data: 38.605323999999996\n",
            "Time taken to predict the data: 0.05774399999999957\n",
            "Accuracy: 42.83%\n",
            "b'bicycle' b'rocket'\n",
            "(4800, 1)\n",
            "(4800, 3072)\n",
            "Time take to fit the data: 39.523786\n",
            "Time taken to predict the data: 0.06343800000000499\n",
            "Accuracy: 41.33%\n",
            "b'bicycle' b'streetcar'\n",
            "(4800, 1)\n",
            "(4800, 3072)\n",
            "Time take to fit the data: 36.16160799999999\n",
            "Time taken to predict the data: 0.05956700000000126\n",
            "Accuracy: 30.67%\n",
            "b'bicycle' b'tank'\n",
            "(4800, 1)\n",
            "(4800, 3072)\n",
            "Time take to fit the data: 36.105667999999994\n",
            "Time taken to predict the data: 0.05528200000000538\n",
            "Accuracy: 30.67%\n",
            "b'bicycle' b'tractor'\n",
            "(4800, 1)\n",
            "(4800, 3072)\n",
            "Time take to fit the data: 36.48203699999999\n",
            "Time taken to predict the data: 0.053581000000008316\n",
            "Accuracy: 35.83%\n",
            "b'bus' b'lawn_mower'\n",
            "(4800, 1)\n",
            "(4800, 3072)\n",
            "Time take to fit the data: 37.242031999999995\n",
            "Time taken to predict the data: 0.05652599999999097\n",
            "Accuracy: 45.83%\n",
            "b'bus' b'rocket'\n",
            "(4800, 1)\n",
            "(4800, 3072)\n",
            "Time take to fit the data: 36.45196100000001\n",
            "Time taken to predict the data: 0.05263800000000174\n",
            "Accuracy: 36.50%\n",
            "b'bus' b'streetcar'\n",
            "(4800, 1)\n",
            "(4800, 3072)\n",
            "Time take to fit the data: 35.846316\n",
            "Time taken to predict the data: 0.05438600000002225\n",
            "Accuracy: 49.08%\n",
            "b'bus' b'tank'\n",
            "(4800, 1)\n",
            "(4800, 3072)\n",
            "Time take to fit the data: 36.036940999999956\n",
            "Time taken to predict the data: 0.055744000000004235\n",
            "Accuracy: 50.00%\n",
            "b'bus' b'tractor'\n",
            "(4800, 1)\n",
            "(4800, 3072)\n",
            "Time take to fit the data: 36.083883000000014\n",
            "Time taken to predict the data: 0.05328199999996741\n",
            "Accuracy: 43.33%\n",
            "b'motorcycle' b'lawn_mower'\n",
            "(4800, 1)\n",
            "(4800, 3072)\n",
            "Time take to fit the data: 37.02745599999997\n",
            "Time taken to predict the data: 0.0523420000000101\n",
            "Accuracy: 74.50%\n",
            "b'motorcycle' b'rocket'\n",
            "(4800, 1)\n",
            "(4800, 3072)\n",
            "Time take to fit the data: 37.02947599999999\n",
            "Time taken to predict the data: 0.05180799999999408\n",
            "Accuracy: 40.00%\n",
            "b'motorcycle' b'streetcar'\n",
            "(4800, 1)\n",
            "(4800, 3072)\n",
            "Time take to fit the data: 35.60452600000002\n",
            "Time taken to predict the data: 0.05254800000000159\n",
            "Accuracy: 45.50%\n",
            "b'motorcycle' b'tank'\n",
            "(4800, 1)\n",
            "(4800, 3072)\n",
            "Time take to fit the data: 35.902124000000015\n",
            "Time taken to predict the data: 0.05382299999996576\n",
            "Accuracy: 52.00%\n",
            "b'motorcycle' b'tractor'\n",
            "(4800, 1)\n",
            "(4800, 3072)\n",
            "Time take to fit the data: 36.39651200000003\n",
            "Time taken to predict the data: 0.05298600000003262\n",
            "Accuracy: 52.58%\n",
            "b'pickup_truck' b'lawn_mower'\n",
            "(4800, 1)\n",
            "(4800, 3072)\n",
            "Time take to fit the data: 36.70865099999992\n",
            "Time taken to predict the data: 0.06037900000001173\n",
            "Accuracy: 55.08%\n",
            "b'pickup_truck' b'rocket'\n",
            "(4800, 1)\n",
            "(4800, 3072)\n",
            "Time take to fit the data: 35.39052199999992\n",
            "Time taken to predict the data: 0.05108800000004976\n",
            "Accuracy: 33.25%\n",
            "b'pickup_truck' b'streetcar'\n",
            "(4800, 1)\n",
            "(4800, 3072)\n",
            "Time take to fit the data: 34.45245900000009\n",
            "Time taken to predict the data: 0.0543999999999869\n",
            "Accuracy: 46.75%\n",
            "b'pickup_truck' b'tank'\n",
            "(4800, 1)\n",
            "(4800, 3072)\n",
            "Time take to fit the data: 35.421077999999966\n",
            "Time taken to predict the data: 0.054637999999954445\n",
            "Accuracy: 55.25%\n",
            "b'pickup_truck' b'tractor'\n",
            "(4800, 1)\n",
            "(4800, 3072)\n",
            "Time take to fit the data: 35.39403900000002\n",
            "Time taken to predict the data: 0.054538000000093234\n",
            "Accuracy: 48.17%\n",
            "b'train' b'lawn_mower'\n",
            "(4800, 1)\n",
            "(4800, 3072)\n",
            "Time take to fit the data: 34.781757000000084\n",
            "Time taken to predict the data: 0.05083600000000388\n",
            "Accuracy: 42.50%\n",
            "b'train' b'rocket'\n",
            "(4800, 1)\n",
            "(4800, 3072)\n",
            "Time take to fit the data: 34.885816999999975\n",
            "Time taken to predict the data: 0.05244799999991301\n",
            "Accuracy: 26.83%\n",
            "b'train' b'streetcar'\n",
            "(4800, 1)\n",
            "(4800, 3072)\n",
            "Time take to fit the data: 33.651342\n",
            "Time taken to predict the data: 0.05275999999992109\n",
            "Accuracy: 41.25%\n",
            "b'train' b'tank'\n",
            "(4800, 1)\n",
            "(4800, 3072)\n",
            "Time take to fit the data: 34.428939000000014\n",
            "Time taken to predict the data: 0.05434200000001965\n",
            "Accuracy: 44.92%\n",
            "b'train' b'tractor'\n",
            "(4800, 1)\n",
            "(4800, 3072)\n",
            "Time take to fit the data: 34.43914900000004\n",
            "Time taken to predict the data: 0.05297199999995428\n",
            "Accuracy: 45.58%\n"
          ],
          "name": "stdout"
        }
      ]
    },
    {
      "cell_type": "code",
      "metadata": {
        "id": "n2bzd1VEOe8e",
        "colab_type": "code",
        "outputId": "24fbcf02-4009-4c89-8f59-f30c943a590a",
        "colab": {
          "base_uri": "https://localhost:8080/",
          "height": 119
        }
      },
      "source": [
        "H=[]\n",
        "from itertools import combinations \n",
        "import pickle\n",
        "from sklearn.ensemble import RandomForestClassifier\n",
        "import time\n",
        "v1s1 = b'motorcycle'\n",
        "v2s2 = b'lawn_mower'\n",
        "os.environ[\"TF_CPP_MIN_LOG_LEVEL\"]=\"3\"\n",
        "tf.logging.set_verbosity(tf.logging.ERROR)\n",
        "X_train,X_test,y_train,y_test = dataprep(v1s1,v2s2)\n",
        "X_train = X_train.values\n",
        "X_test = X_test.values\n",
        "X_train = X_train.reshape(X_train.shape[0],3*32*32)\n",
        "X_test = X_test.reshape(X_test.shape[0],3*32*32)\n",
        "from keras.utils import np_utils\n",
        "# one hot encode outputs\n",
        "y_train1 = to_categorical(y_train,num_classes=2)\n",
        "y_test1 = to_categorical(y_test,num_classes=2)\n",
        "num_classes = y_test.shape[1]\n",
        "H+= [[[v1s1],[v2s2]]]\n",
        "\n",
        "print(v1s1,v2s2)\n",
        "print(y_train.shape)\n",
        "print(X_train.shape)\n",
        "classifier = RandomForestClassifier(n_estimators = 155, criterion = 'entropy', random_state = 55)\n",
        "start = time.clock()\n",
        "classifier.fit(X_train, y_train1)\n",
        "end = time.clock()\n",
        "print(\"Time taken to fit the data:\",end - start)\n",
        "start1 = time.clock()\n",
        "y_pred = classifier.predict(X_test)\n",
        "end1 = time.clock()\n",
        "print(\"Time taken to predict the data:\",end1 - start1)\n",
        "scores = classifier.score(X_test, y_test1)\n",
        "print(\"Accuracy: %.2f%%\" % (scores*100))"
      ],
      "execution_count": 0,
      "outputs": [
        {
          "output_type": "stream",
          "text": [
            "b'motorcycle' b'lawn_mower'\n",
            "(4800, 1)\n",
            "(4800, 3072)\n",
            "Time taken to fit the data: 51.384154999999964\n",
            "Time taken to predict the data: 0.06476999999995314\n",
            "Accuracy: 74.75%\n"
          ],
          "name": "stdout"
        }
      ]
    },
    {
      "cell_type": "code",
      "metadata": {
        "id": "hLLYQfDCM3oB",
        "colab_type": "code",
        "colab": {}
      },
      "source": [
        ""
      ],
      "execution_count": 0,
      "outputs": []
    },
    {
      "cell_type": "markdown",
      "metadata": {
        "id": "gup9af0EAS43",
        "colab_type": "text"
      },
      "source": [
        "# Random Forest Classifer"
      ]
    },
    {
      "cell_type": "code",
      "metadata": {
        "id": "FEuFgub-AYwL",
        "colab_type": "code",
        "colab": {}
      },
      "source": [
        "# Predicting the Test set results\n",
        "import pickle\n",
        "from sklearn.ensemble import RandomForestClassifier\n",
        "y_pred = classifier.predict(X_test)"
      ],
      "execution_count": 0,
      "outputs": []
    },
    {
      "cell_type": "code",
      "metadata": {
        "id": "gIzVRUV6Aas8",
        "colab_type": "code",
        "outputId": "228e5503-9c8c-4578-becc-dfb80f3e05e8",
        "colab": {
          "base_uri": "https://localhost:8080/",
          "height": 34
        }
      },
      "source": [
        "# Score for Random forest model\n",
        "print(classifier.score(X_test,y_test1))"
      ],
      "execution_count": 0,
      "outputs": [
        {
          "output_type": "stream",
          "text": [
            "0.7475\n"
          ],
          "name": "stdout"
        }
      ]
    },
    {
      "cell_type": "code",
      "metadata": {
        "id": "OOjsWu1-Arxw",
        "colab_type": "code",
        "outputId": "ab23f032-50ca-40ea-ed81-162c7b221e51",
        "colab": {
          "base_uri": "https://localhost:8080/",
          "height": 324
        }
      },
      "source": [
        "# Displaying the confusion matrix for Random forest model\n",
        "from sklearn.metrics import confusion_matrix\n",
        "#cm = confusion_matrix(y_test, y_pred)\n",
        "cm = confusion_matrix(y_test1.argmax(axis=1), y_pred.argmax(axis=1))\n",
        "plt.clf()\n",
        "plt.imshow(cm, interpolation='nearest', cmap=plt.cm.Wistia)\n",
        "classNames = ['Negative','Positive']\n",
        "plt.title('Confusion Matrix - Test Data')\n",
        "plt.ylabel('True label')\n",
        "plt.xlabel('Predicted label')\n",
        "tick_marks = np.arange(len(classNames))\n",
        "plt.xticks(tick_marks, classNames, rotation=45)\n",
        "plt.yticks(tick_marks, classNames)\n",
        "s = [['TN','FP'], ['FN', 'TP']]\n",
        "for i in range(2):\n",
        "  for j in range(2):\n",
        "    plt.text(j,i, str(s[i][j])+\" = \"+str(cm[i][j]))\n",
        "plt.show()"
      ],
      "execution_count": 0,
      "outputs": [
        {
          "output_type": "display_data",
          "data": {
            "image/png": "[encoded data removed]",
            "text/plain": [
              "<Figure size 432x288 with 1 Axes>"
            ]
          },
          "metadata": {
            "tags": []
          }
        }
      ]
    },
    {
      "cell_type": "code",
      "metadata": {
        "id": "PtR_3LpKMbxD",
        "colab_type": "code",
        "outputId": "d41a4382-765e-4519-98b6-0c5f942ce236",
        "colab": {
          "base_uri": "https://localhost:8080/",
          "height": 34
        }
      },
      "source": [
        "len(X_test)\n",
        "testset.shape"
      ],
      "execution_count": 0,
      "outputs": [
        {
          "output_type": "execute_result",
          "data": {
            "text/plain": [
              "(1200, 3074)"
            ]
          },
          "metadata": {
            "tags": []
          },
          "execution_count": 32
        }
      ]
    },
    {
      "cell_type": "code",
      "metadata": {
        "id": "jRvmpNGmAt2g",
        "colab_type": "code",
        "outputId": "98dc84ae-19ca-4551-d781-e6860910f804",
        "colab": {
          "base_uri": "https://localhost:8080/",
          "height": 187
        }
      },
      "source": [
        "# Displaying classification report for random forest model\n",
        "\n",
        "from sklearn.metrics import classification_report\n",
        "print(classification_report(y_test1, y_pred))"
      ],
      "execution_count": 0,
      "outputs": [
        {
          "output_type": "stream",
          "text": [
            "              precision    recall  f1-score   support\n",
            "\n",
            "           0       0.71      0.84      0.77       600\n",
            "           1       0.80      0.65      0.72       600\n",
            "\n",
            "   micro avg       0.75      0.75      0.75      1200\n",
            "   macro avg       0.76      0.75      0.75      1200\n",
            "weighted avg       0.76      0.75      0.75      1200\n",
            " samples avg       0.75      0.75      0.75      1200\n",
            "\n"
          ],
          "name": "stdout"
        }
      ]
    },
    {
      "cell_type": "code",
      "metadata": {
        "id": "HwK291DrMQA1",
        "colab_type": "code",
        "outputId": "d5b5d298-c263-43be-b5ee-a49f610ee2d7",
        "colab": {
          "base_uri": "https://localhost:8080/",
          "height": 34
        }
      },
      "source": [
        "y_test.shape"
      ],
      "execution_count": 0,
      "outputs": [
        {
          "output_type": "execute_result",
          "data": {
            "text/plain": [
              "(1200, 1)"
            ]
          },
          "metadata": {
            "tags": []
          },
          "execution_count": 35
        }
      ]
    },
    {
      "cell_type": "code",
      "metadata": {
        "id": "N6ZZ7q45-X_R",
        "colab_type": "code",
        "colab": {}
      },
      "source": [
        ""
      ],
      "execution_count": 0,
      "outputs": []
    }
  ]
}