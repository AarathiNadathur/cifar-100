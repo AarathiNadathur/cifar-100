{
  "nbformat": 4,
  "nbformat_minor": 0,
  "metadata": {
    "colab": {
      "name": "Milestone 3 Bonus - Group 8.ipynb",
      "provenance": [],
      "collapsed_sections": []
    },
    "kernelspec": {
      "name": "python3",
      "display_name": "Python 3"
    },
    "accelerator": "GPU"
  },
  "cells": [
    {
      "cell_type": "code",
      "metadata": {
        "id": "vmbOWVcmIGnr",
        "colab_type": "code",
        "outputId": "de85f6b3-ba59-4b0e-f497-a5ae21178efc",
        "colab": {
          "base_uri": "https://localhost:8080/",
          "height": 87
        }
      },
      "source": [
        "# Identifying superclasses indexes\n",
        "# Identifying superclasses indexes\n",
        "import pandas as pd\n",
        "#1 Code to read csv file into colaboratory:\n",
        "!pip install -U -q PyDrive\n",
        "from pydrive.auth import GoogleAuth\n",
        "from pydrive.drive import GoogleDrive\n",
        "from google.colab import auth\n",
        "from oauth2client.client import GoogleCredentials\n",
        "\n",
        "# 1. Authenticate and create the PyDrive client.\n",
        "auth.authenticate_user()\n",
        "gauth = GoogleAuth()\n",
        "gauth.credentials = GoogleCredentials.get_application_default()\n",
        "drive = GoogleDrive(gauth)\n",
        "\n",
        "downloaded1 = drive.CreateFile({'id':'1IfioWuWPLvvMvkdVCflMh5v6xVfKwBxW'}) # replace the id with id of file you want to access\n",
        "downloaded1.GetContentFile('meta')\n",
        "\n",
        "def unpickle(file):\n",
        "    import pickle\n",
        "    with open(file, 'rb') as fo:\n",
        "        dict = pickle.load(fo, encoding='bytes')\n",
        "    return dict\n",
        "  \n",
        "meta = unpickle('meta')\n",
        "k=0\n",
        "# Looping through the list to find the index of vehicle 1 and vehicle 2\n",
        "for i in meta[b'coarse_label_names']:\n",
        "  if i==b'vehicles_1':\n",
        "    a = k\n",
        "  if i==b'vehicles_2':\n",
        "    b = k\n",
        "  k=k+1  \n",
        "print('Vehicle 1 index:',a,'\\nVehicle 2 index:',b)\n",
        "coarse = pd.DataFrame(meta[b'coarse_label_names'])\n",
        "fine = pd.DataFrame(meta[b'fine_label_names'])"
      ],
      "execution_count": 0,
      "outputs": [
        {
          "output_type": "stream",
          "text": [
            "\u001b[?25l\r\u001b[K     |▎                               | 10kB 25.5MB/s eta 0:00:01\r\u001b[K     |▋                               | 20kB 2.2MB/s eta 0:00:01\r\u001b[K     |█                               | 30kB 3.2MB/s eta 0:00:01\r\u001b[K     |█▎                              | 40kB 2.1MB/s eta 0:00:01\r\u001b[K     |█▋                              | 51kB 2.6MB/s eta 0:00:01\r\u001b[K     |██                              | 61kB 3.1MB/s eta 0:00:01\r\u001b[K     |██▎                             | 71kB 3.6MB/s eta 0:00:01\r\u001b[K     |██▋                             | 81kB 4.1MB/s eta 0:00:01\r\u001b[K     |███                             | 92kB 4.6MB/s eta 0:00:01\r\u001b[K     |███▎                            | 102kB 3.5MB/s eta 0:00:01\r\u001b[K     |███▋                            | 112kB 3.5MB/s eta 0:00:01\r\u001b[K     |████                            | 122kB 3.5MB/s eta 0:00:01\r\u001b[K     |████▎                           | 133kB 3.5MB/s eta 0:00:01\r\u001b[K     |████▋                           | 143kB 3.5MB/s eta 0:00:01\r\u001b[K     |█████                           | 153kB 3.5MB/s eta 0:00:01\r\u001b[K     |█████▎                          | 163kB 3.5MB/s eta 0:00:01\r\u001b[K     |█████▋                          | 174kB 3.5MB/s eta 0:00:01\r\u001b[K     |██████                          | 184kB 3.5MB/s eta 0:00:01\r\u001b[K     |██████▎                         | 194kB 3.5MB/s eta 0:00:01\r\u001b[K     |██████▋                         | 204kB 3.5MB/s eta 0:00:01\r\u001b[K     |███████                         | 215kB 3.5MB/s eta 0:00:01\r\u001b[K     |███████▎                        | 225kB 3.5MB/s eta 0:00:01\r\u001b[K     |███████▋                        | 235kB 3.5MB/s eta 0:00:01\r\u001b[K     |████████                        | 245kB 3.5MB/s eta 0:00:01\r\u001b[K     |████████▎                       | 256kB 3.5MB/s eta 0:00:01\r\u001b[K     |████████▋                       | 266kB 3.5MB/s eta 0:00:01\r\u001b[K     |█████████                       | 276kB 3.5MB/s eta 0:00:01\r\u001b[K     |█████████▎                      | 286kB 3.5MB/s eta 0:00:01\r\u001b[K     |█████████▋                      | 296kB 3.5MB/s eta 0:00:01\r\u001b[K     |██████████                      | 307kB 3.5MB/s eta 0:00:01\r\u001b[K     |██████████▎                     | 317kB 3.5MB/s eta 0:00:01\r\u001b[K     |██████████▋                     | 327kB 3.5MB/s eta 0:00:01\r\u001b[K     |███████████                     | 337kB 3.5MB/s eta 0:00:01\r\u001b[K     |███████████▎                    | 348kB 3.5MB/s eta 0:00:01\r\u001b[K     |███████████▋                    | 358kB 3.5MB/s eta 0:00:01\r\u001b[K     |████████████                    | 368kB 3.5MB/s eta 0:00:01\r\u001b[K     |████████████▎                   | 378kB 3.5MB/s eta 0:00:01\r\u001b[K     |████████████▋                   | 389kB 3.5MB/s eta 0:00:01\r\u001b[K     |█████████████                   | 399kB 3.5MB/s eta 0:00:01\r\u001b[K     |█████████████▎                  | 409kB 3.5MB/s eta 0:00:01\r\u001b[K     |█████████████▋                  | 419kB 3.5MB/s eta 0:00:01\r\u001b[K     |██████████████                  | 430kB 3.5MB/s eta 0:00:01\r\u001b[K     |██████████████▎                 | 440kB 3.5MB/s eta 0:00:01\r\u001b[K     |██████████████▋                 | 450kB 3.5MB/s eta 0:00:01\r\u001b[K     |███████████████                 | 460kB 3.5MB/s eta 0:00:01\r\u001b[K     |███████████████▎                | 471kB 3.5MB/s eta 0:00:01\r\u001b[K     |███████████████▋                | 481kB 3.5MB/s eta 0:00:01\r\u001b[K     |████████████████                | 491kB 3.5MB/s eta 0:00:01\r\u001b[K     |████████████████▎               | 501kB 3.5MB/s eta 0:00:01\r\u001b[K     |████████████████▋               | 512kB 3.5MB/s eta 0:00:01\r\u001b[K     |█████████████████               | 522kB 3.5MB/s eta 0:00:01\r\u001b[K     |█████████████████▎              | 532kB 3.5MB/s eta 0:00:01\r\u001b[K     |█████████████████▋              | 542kB 3.5MB/s eta 0:00:01\r\u001b[K     |██████████████████              | 552kB 3.5MB/s eta 0:00:01\r\u001b[K     |██████████████████▎             | 563kB 3.5MB/s eta 0:00:01\r\u001b[K     |██████████████████▋             | 573kB 3.5MB/s eta 0:00:01\r\u001b[K     |███████████████████             | 583kB 3.5MB/s eta 0:00:01\r\u001b[K     |███████████████████▎            | 593kB 3.5MB/s eta 0:00:01\r\u001b[K     |███████████████████▋            | 604kB 3.5MB/s eta 0:00:01\r\u001b[K     |████████████████████            | 614kB 3.5MB/s eta 0:00:01\r\u001b[K     |████████████████████▎           | 624kB 3.5MB/s eta 0:00:01\r\u001b[K     |████████████████████▋           | 634kB 3.5MB/s eta 0:00:01\r\u001b[K     |█████████████████████           | 645kB 3.5MB/s eta 0:00:01\r\u001b[K     |█████████████████████▎          | 655kB 3.5MB/s eta 0:00:01\r\u001b[K     |█████████████████████▋          | 665kB 3.5MB/s eta 0:00:01\r\u001b[K     |██████████████████████          | 675kB 3.5MB/s eta 0:00:01\r\u001b[K     |██████████████████████▎         | 686kB 3.5MB/s eta 0:00:01\r\u001b[K     |██████████████████████▋         | 696kB 3.5MB/s eta 0:00:01\r\u001b[K     |███████████████████████         | 706kB 3.5MB/s eta 0:00:01\r\u001b[K     |███████████████████████▎        | 716kB 3.5MB/s eta 0:00:01\r\u001b[K     |███████████████████████▋        | 727kB 3.5MB/s eta 0:00:01\r\u001b[K     |████████████████████████        | 737kB 3.5MB/s eta 0:00:01\r\u001b[K     |████████████████████████▎       | 747kB 3.5MB/s eta 0:00:01\r\u001b[K     |████████████████████████▋       | 757kB 3.5MB/s eta 0:00:01\r\u001b[K     |████████████████████████▉       | 768kB 3.5MB/s eta 0:00:01\r\u001b[K     |█████████████████████████▏      | 778kB 3.5MB/s eta 0:00:01\r\u001b[K     |█████████████████████████▌      | 788kB 3.5MB/s eta 0:00:01\r\u001b[K     |█████████████████████████▉      | 798kB 3.5MB/s eta 0:00:01\r\u001b[K     |██████████████████████████▏     | 808kB 3.5MB/s eta 0:00:01\r\u001b[K     |██████████████████████████▌     | 819kB 3.5MB/s eta 0:00:01\r\u001b[K     |██████████████████████████▉     | 829kB 3.5MB/s eta 0:00:01\r\u001b[K     |███████████████████████████▏    | 839kB 3.5MB/s eta 0:00:01\r\u001b[K     |███████████████████████████▌    | 849kB 3.5MB/s eta 0:00:01\r\u001b[K     |███████████████████████████▉    | 860kB 3.5MB/s eta 0:00:01\r\u001b[K     |████████████████████████████▏   | 870kB 3.5MB/s eta 0:00:01\r\u001b[K     |████████████████████████████▌   | 880kB 3.5MB/s eta 0:00:01\r\u001b[K     |████████████████████████████▉   | 890kB 3.5MB/s eta 0:00:01\r\u001b[K     |█████████████████████████████▏  | 901kB 3.5MB/s eta 0:00:01\r\u001b[K     |█████████████████████████████▌  | 911kB 3.5MB/s eta 0:00:01\r\u001b[K     |█████████████████████████████▉  | 921kB 3.5MB/s eta 0:00:01\r\u001b[K     |██████████████████████████████▏ | 931kB 3.5MB/s eta 0:00:01\r\u001b[K     |██████████████████████████████▌ | 942kB 3.5MB/s eta 0:00:01\r\u001b[K     |██████████████████████████████▉ | 952kB 3.5MB/s eta 0:00:01\r\u001b[K     |███████████████████████████████▏| 962kB 3.5MB/s eta 0:00:01\r\u001b[K     |███████████████████████████████▌| 972kB 3.5MB/s eta 0:00:01\r\u001b[K     |███████████████████████████████▉| 983kB 3.5MB/s eta 0:00:01\r\u001b[K     |████████████████████████████████| 993kB 3.5MB/s \n",
            "\u001b[?25h  Building wheel for PyDrive (setup.py) ... \u001b[?25l\u001b[?25hdone\n",
            "Vehicle 1 index: 18 \n",
            "Vehicle 2 index: 19\n"
          ],
          "name": "stdout"
        }
      ]
    },
    {
      "cell_type": "markdown",
      "metadata": {
        "id": "93rZMf6_52cc",
        "colab_type": "text"
      },
      "source": [
        "## With Cifar-100 dataset in Keras"
      ]
    },
    {
      "cell_type": "code",
      "metadata": {
        "id": "8v9H5blS55E-",
        "colab_type": "code",
        "outputId": "8b33f1f1-da11-4562-d230-4513c47141f0",
        "colab": {
          "base_uri": "https://localhost:8080/",
          "height": 35
        }
      },
      "source": [
        "# install keras first\n",
        "!pip install dill\n",
        "!pip install -q keras"
      ],
      "execution_count": 0,
      "outputs": [
        {
          "output_type": "stream",
          "text": [
            "Requirement already satisfied: dill in /usr/local/lib/python3.6/dist-packages (0.2.9)\n"
          ],
          "name": "stdout"
        }
      ]
    },
    {
      "cell_type": "code",
      "metadata": {
        "id": "jrQ0o2Ac57Uy",
        "colab_type": "code",
        "colab": {}
      },
      "source": [
        "import os\n",
        "os.environ[\"THEANO_FLAGS\"] = \"mode=FAST_RUN,device=gpu,floatX=float32,TF_CPP_MIN_LOG_LEVEL=2\""
      ],
      "execution_count": 0,
      "outputs": []
    },
    {
      "cell_type": "code",
      "metadata": {
        "id": "O-g6hMo-590z",
        "colab_type": "code",
        "outputId": "85c021ef-8cb8-478b-8631-977bf2e1d8e7",
        "colab": {
          "base_uri": "https://localhost:8080/",
          "height": 35
        }
      },
      "source": [
        "from keras import backend as K\n",
        "if K.backend()=='tensorflow':\n",
        "    K.set_image_dim_ordering(\"th\")"
      ],
      "execution_count": 0,
      "outputs": [
        {
          "output_type": "stream",
          "text": [
            "Using TensorFlow backend.\n"
          ],
          "name": "stderr"
        }
      ]
    },
    {
      "cell_type": "code",
      "metadata": {
        "id": "Oz1i5wfu5_w_",
        "colab_type": "code",
        "outputId": "0aca8009-a183-4714-e1dc-dd81ac9b86b2",
        "colab": {
          "base_uri": "https://localhost:8080/",
          "height": 35
        }
      },
      "source": [
        "#batch_size = 1000\n",
        "num_classes = 2\n",
        "'''\n",
        "epochs_longrun = 500\n",
        "save_dir = \"/work\"\n",
        "res_dir = \"/results\"\n",
        "model_name = 'convnet_cifar100'\n",
        "'''"
      ],
      "execution_count": 0,
      "outputs": [
        {
          "output_type": "execute_result",
          "data": {
            "text/plain": [
              "'\\nepochs_longrun = 500\\nsave_dir = \"/work\"\\nres_dir = \"/results\"\\nmodel_name = \\'convnet_cifar100\\'\\n'"
            ]
          },
          "metadata": {
            "tags": []
          },
          "execution_count": 7
        }
      ]
    },
    {
      "cell_type": "code",
      "metadata": {
        "id": "IzQEMJ-T6EB4",
        "colab_type": "code",
        "colab": {}
      },
      "source": [
        "from keras.datasets import cifar100"
      ],
      "execution_count": 0,
      "outputs": []
    },
    {
      "cell_type": "code",
      "metadata": {
        "id": "Gdu5AGPM6F9C",
        "colab_type": "code",
        "colab": {}
      },
      "source": [
        "from __future__ import print_function\n",
        "import tensorflow as tf\n",
        "import keras\n",
        "from keras.preprocessing.image import ImageDataGenerator\n",
        "from keras.models import Sequential\n",
        "from keras.layers.core import Dense, Dropout, Flatten, Activation\n",
        "from keras.layers.convolutional import Conv2D\n",
        "from keras.optimizers import Adam\n",
        "from keras.layers.pooling import MaxPooling2D\n",
        "from keras.callbacks import ModelCheckpoint,EarlyStopping\n",
        "from keras.utils import to_categorical\n",
        "from keras.models import load_model\n",
        "\n",
        "import os\n",
        "import numpy as np\n",
        "import pandas as pd\n",
        "import matplotlib.pyplot as plt\n",
        "from math import *\n",
        "from sklearn.model_selection import train_test_split\n",
        "from sklearn.preprocessing import StandardScaler\n",
        "import warnings\n",
        "warnings.filterwarnings('ignore')"
      ],
      "execution_count": 0,
      "outputs": []
    },
    {
      "cell_type": "code",
      "metadata": {
        "id": "qD8NyM4G6I8I",
        "colab_type": "code",
        "colab": {}
      },
      "source": [
        "def combinedf(x,y,z):\n",
        "  # Required subset of data in dataframe\n",
        "  x = x.reshape(x.shape[0],3*32*32)\n",
        "  images_df = pd.DataFrame(x, columns = list(range(0,3072)))\n",
        "  temp = pd.DataFrame(y, columns = ['Target'])\n",
        "  sub = pd.DataFrame(z, columns = ['Subtar'])\n",
        "  images_df = pd.concat([images_df,sub,temp],axis=1)\n",
        "  vehicle_images = images_df[(images_df['Target']==18) | (images_df['Target']==19) ]\n",
        "  vehicle_images['Subtar'] = fine[0][vehicle_images['Subtar']].values # Subtar holds the subclass values.\n",
        "  vehicle_images['Target'] = coarse[0][vehicle_images['Target']].values # Taget holds the superclass values\n",
        "  #vehicle_images.head()\n",
        "  return vehicle_images"
      ],
      "execution_count": 0,
      "outputs": []
    },
    {
      "cell_type": "code",
      "metadata": {
        "id": "fIo0oS4x6LCD",
        "colab_type": "code",
        "outputId": "a1c67b6c-05b6-4b00-f07a-431adf21cd2f",
        "colab": {
          "base_uri": "https://localhost:8080/",
          "height": 104
        }
      },
      "source": [
        "import tensorflow as tf\n",
        "import numpy as np\n",
        "from keras.utils import to_categorical\n",
        "tf.reset_default_graph()\n",
        "tf.set_random_seed(343)\n",
        "np.random.seed(343)\n",
        "# The data, shuffled and split between train and test sets:\n",
        "(x_train, y_train), (x_test, y_test) = cifar100.load_data(label_mode='coarse')\n",
        "(a_train, b_train), (a_test, b_test) = cifar100.load_data(label_mode='fine')\n",
        "print('x_train shape:', x_train.shape)\n",
        "print(x_train.shape[0], 'train samples')\n",
        "print(x_test.shape[0], 'test samples')\n",
        "trainset = combinedf(x_train,y_train,b_train)\n",
        "testset  = combinedf(x_test,y_test,b_test)"
      ],
      "execution_count": 0,
      "outputs": [
        {
          "output_type": "stream",
          "text": [
            "Downloading data from https://www.cs.toronto.edu/~kriz/cifar-100-python.tar.gz\n",
            "169009152/169001437 [==============================] - 6s 0us/step\n",
            "x_train shape: (50000, 3, 32, 32)\n",
            "50000 train samples\n",
            "10000 test samples\n"
          ],
          "name": "stdout"
        }
      ]
    },
    {
      "cell_type": "code",
      "metadata": {
        "id": "kNp7BE-i6V_8",
        "colab_type": "code",
        "colab": {}
      },
      "source": [
        "data = pd.concat([trainset,testset],axis=0)"
      ],
      "execution_count": 0,
      "outputs": []
    },
    {
      "cell_type": "code",
      "metadata": {
        "id": "8IeC0ExV6YKK",
        "colab_type": "code",
        "outputId": "b1ca7690-b74f-4cbe-da16-315abb5456dc",
        "colab": {
          "base_uri": "https://localhost:8080/",
          "height": 52
        }
      },
      "source": [
        "vehicle1 = np.unique(data[(data['Target']==b'vehicles_1')]['Subtar'])\n",
        "vehicle1"
      ],
      "execution_count": 0,
      "outputs": [
        {
          "output_type": "execute_result",
          "data": {
            "text/plain": [
              "array([b'bicycle', b'bus', b'motorcycle', b'pickup_truck', b'train'],\n",
              "      dtype=object)"
            ]
          },
          "metadata": {
            "tags": []
          },
          "execution_count": 13
        }
      ]
    },
    {
      "cell_type": "code",
      "metadata": {
        "id": "_a8Brly3mcAB",
        "colab_type": "code",
        "outputId": "b5b1722d-1a43-4088-a898-094fec5ecbb7",
        "colab": {
          "base_uri": "https://localhost:8080/",
          "height": 52
        }
      },
      "source": [
        "vehicle2 = np.unique(data[(data['Target']==b'vehicles_2')]['Subtar'])\n",
        "vehicle2"
      ],
      "execution_count": 0,
      "outputs": [
        {
          "output_type": "execute_result",
          "data": {
            "text/plain": [
              "array([b'lawn_mower', b'rocket', b'streetcar', b'tank', b'tractor'],\n",
              "      dtype=object)"
            ]
          },
          "metadata": {
            "tags": []
          },
          "execution_count": 14
        }
      ]
    },
    {
      "cell_type": "code",
      "metadata": {
        "id": "tcKhdYJc6bHF",
        "colab_type": "code",
        "colab": {}
      },
      "source": [
        "v1s1 = b'motorcycle'\n",
        "v2s2 = b'lawn_mower'\n",
        "v1s3 = b'pickup_truck'\n",
        "v2s4 = b'streetcar'"
      ],
      "execution_count": 0,
      "outputs": []
    },
    {
      "cell_type": "markdown",
      "metadata": {
        "id": "Q4UZVi3DYqbr",
        "colab_type": "text"
      },
      "source": [
        "# CNN"
      ]
    },
    {
      "cell_type": "code",
      "metadata": {
        "id": "IVvsQ2lvYtlp",
        "colab_type": "code",
        "colab": {}
      },
      "source": [
        "def build_model():\n",
        "  model3=Sequential()\n",
        "\n",
        "  model3.add(Conv2D(128, (3, 3), padding='same',input_shape=(3, 32, 32)))\n",
        "  model3.add(Activation('relu'))\n",
        "  model3.add(Conv2D(128, (3, 3)))\n",
        "  model3.add(Activation('relu'))\n",
        "  model3.add(MaxPooling2D(pool_size=(2, 2)))\n",
        "  model3.add(Dropout(0.20))\n",
        "\n",
        "  model3.add(Conv2D(256, (3, 3), padding='same'))\n",
        "  model3.add(Activation('relu'))\n",
        "  model3.add(Conv2D(256, (3, 3)))\n",
        "  model3.add(Activation('relu'))\n",
        "  model3.add(MaxPooling2D(pool_size=(2, 2)))\n",
        "  model3.add(Dropout(0.25))\n",
        "\n",
        "  model3.add(Conv2D(512, (3, 3), padding='same'))\n",
        "  model3.add(Activation('relu'))\n",
        "  model3.add(Conv2D(512, (3, 3)))\n",
        "  model3.add(Activation('relu'))\n",
        "  model3.add(MaxPooling2D(pool_size=(2, 2)))\n",
        "  model3.add(Dropout(0.5))\n",
        "\n",
        "  model3.add(Flatten())\n",
        "  model3.add(Dense(1024))\n",
        "  model3.add(Activation('relu'))\n",
        "  model3.add(Dropout(0.5))\n",
        "  model3.add(Dense(2))\n",
        "  model3.add(Activation('softmax'))\n",
        "\n",
        " \n",
        "\n",
        "  opt = Adam(lr=0.000057, decay=1e-6)\n",
        "\n",
        "  model3.compile(loss='binary_crossentropy',\n",
        "                optimizer=opt,\n",
        "                metrics=['accuracy'])\n",
        "\n",
        "  #print('Using real-time data augmentation.')\n",
        "\n",
        "  datagen = ImageDataGenerator(\n",
        "    featurewise_center=False, \n",
        "    samplewise_center=False,  \n",
        "    featurewise_std_normalization=False,\n",
        "    samplewise_std_normalization=False, \n",
        "    zca_whitening=False, \n",
        "    rotation_range=0, \n",
        "    width_shift_range=0.1, \n",
        "    height_shift_range=0.1,\n",
        "    horizontal_flip=True, \n",
        "    vertical_flip=False) \n",
        "\n",
        "  datagen.fit(X_train)\n",
        "  #model3.summary()\n",
        "  return model3,datagen\n"
      ],
      "execution_count": 0,
      "outputs": []
    },
    {
      "cell_type": "markdown",
      "metadata": {
        "id": "nPPsmB_8zVQf",
        "colab_type": "text"
      },
      "source": [
        "# Loop"
      ]
    },
    {
      "cell_type": "code",
      "metadata": {
        "id": "BiachHu4zULj",
        "colab_type": "code",
        "colab": {}
      },
      "source": [
        " def dataprep(v1s1,v1s2,v1s3,v2s1,v2s2,v2s3):\n",
        "    trainset = data[( (data['Subtar']!=v1s1) & (data['Subtar']!=v1s2)& (data['Subtar']!=v1s3) & (data['Subtar']!=v2s1) & (data['Subtar']!=v2s2)& (data['Subtar']!=v2s3)) ]\n",
        "    testset = data[( (data['Subtar']==v1s1) | (data['Subtar']==v1s2) | (data['Subtar']==v1s3) | (data['Subtar']==v2s1)|(data['Subtar']==v2s2)| (data['Subtar']==v2s3))]\n",
        "    X_train = trainset.drop(['Subtar','Target'],axis=1)\n",
        "    y_train = trainset['Target']\n",
        "    X_test = testset.drop(['Subtar','Target'],axis=1)\n",
        "    y_test = testset['Target']\n",
        "    #Normalize data\n",
        "    X_train = X_train.astype('float32')\n",
        "    X_test = X_test.astype('float32')\n",
        "    X_train /= 255.0\n",
        "    X_test /= 255.0\n",
        "    y_train = pd.get_dummies(y_train,drop_first=True)\n",
        "    y_test = pd.get_dummies(y_test,drop_first=True)\n",
        "    return X_train,X_test,y_train,y_test"
      ],
      "execution_count": 0,
      "outputs": []
    },
    {
      "cell_type": "code",
      "metadata": {
        "id": "1ii9e3W10L7t",
        "colab_type": "code",
        "colab": {}
      },
      "source": [
        "def cnn(H,X_train,X_test,y_train,y_test,datagen,model3):\n",
        "  Best = str(H).replace(\"'\",\"\")\n",
        "  save_dir = os.path.join(os.getcwd(), 'saved_models')\n",
        "  model_name = 'c_%s_m.{epoch:03d}.h5' % Best\n",
        "  if not os.path.isdir(save_dir):\n",
        "      os.makedirs(save_dir)\n",
        "  filepath = os.path.join(save_dir, model_name)\n",
        "  # Prepare callbacks for model saving and for learning rate adjustment.\n",
        "  checkpoint = ModelCheckpoint(filepath=filepath,\n",
        "                               monitor='val_acc',\n",
        "                               verbose=0,\n",
        "                               save_best_only=True)\n",
        "  callbacks = [checkpoint]\n",
        "  \n",
        "  \n",
        "  #Let's train the model\n",
        "  epochs = 24\n",
        "  #batch_size=128\n",
        "  Best = H\n",
        "  hist = model3.fit_generator(datagen.flow(X_train, y_train,\n",
        "      batch_size=128),shuffle= True,\n",
        "      steps_per_epoch=X_train.shape[0] // 256,\n",
        "      epochs=epochs,verbose=0,\n",
        "      validation_data=(X_test, y_test),\n",
        "      workers=4,callbacks=callbacks)\n",
        "  \n",
        "  var = !(ls saved_models -tr|tail -1)\n",
        "  filenamestr = \"/content/saved_models/\"+var[0]\n",
        "  model = load_model(filenamestr)\n",
        "  scores = model.evaluate(X_test, y_test, verbose=0)\n",
        "  print(H,\"Accuracy: %.2f%%\" % (scores[1]*100))"
      ],
      "execution_count": 0,
      "outputs": []
    },
    {
      "cell_type": "code",
      "metadata": {
        "id": "2G88SQ4DIhfp",
        "colab_type": "code",
        "colab": {}
      },
      "source": [
        "import os\n",
        "os.environ['TF_CPP_MIN_LOG_LEVEL'] = '3'\n",
        "tf.logging.set_verbosity(tf.logging.ERROR)"
      ],
      "execution_count": 0,
      "outputs": []
    },
    {
      "cell_type": "code",
      "metadata": {
        "id": "eJuSQLOBLxEm",
        "colab_type": "code",
        "colab": {}
      },
      "source": [
        "def warn(*args, **kwargs):\n",
        "  pass\n",
        "import warnings\n",
        "warnings.warn = warn"
      ],
      "execution_count": 0,
      "outputs": []
    },
    {
      "cell_type": "code",
      "metadata": {
        "id": "kHzOEEB0zAGc",
        "colab_type": "code",
        "outputId": "4ce6c5fa-88ca-42a1-f9e0-d19358496a2d",
        "colab": {
          "base_uri": "https://localhost:8080/",
          "height": 3712
        }
      },
      "source": [
        "a = []\n",
        "b = []\n",
        "c = []\n",
        "save_dir = os.path.join(os.getcwd(), 'saved_models')\n",
        "from itertools import permutations \n",
        "perm1 = permutations(vehicle1, 3) \n",
        "perm2 = permutations(vehicle2, 3)\n",
        "for i in list(perm1): \n",
        "    a+=[i]\n",
        "for i in list(perm2): \n",
        "    b+=[i]    \n",
        "skip=[]\n",
        "j = [0,1,2,3,4,5,8,16,17,20,27]\n",
        "for i in list(range(0,60)):\n",
        "  if i not in j:\n",
        "    skip+= [i]\n",
        "\n",
        "\n",
        "for i in sorted(skip, reverse=True): \n",
        "    del b[i]\n",
        "    del a[i]\n",
        "H=[]\n",
        "for k in a:\n",
        "  for l in b:\n",
        "    v1s1 = k[0]\n",
        "    v1s2 = k[1]\n",
        "    v1s3 = k[2]\n",
        "    \n",
        "    v2s1 = l[0]\n",
        "    v2s2 = l[1]\n",
        "    v2s3 = l[2]\n",
        "for k in a:\n",
        "  for l in b:\n",
        "    v1s1 = k[0]\n",
        "    v1s2 = k[1]\n",
        "    v1s3 = k[2]\n",
        "    \n",
        "    v2s1 = l[0]\n",
        "    v2s2 = l[1]\n",
        "    v2s3 = l[2]\n",
        "    os.environ[\"TF_CPP_MIN_LOG_LEVEL\"]=\"3\"\n",
        "    tf.logging.set_verbosity(tf.logging.ERROR)\n",
        "    X_train,X_test,y_train,y_test = dataprep(v1s1,v1s2,v1s3,v2s1,v2s2,v2s3)\n",
        "    X_train = X_train.values\n",
        "    X_test = X_test.values\n",
        "    X_train = X_train.reshape(X_train.shape[0],3,32,32)\n",
        "    X_test = X_test.reshape(X_test.shape[0],3,32,32)\n",
        "    from keras.utils import np_utils\n",
        "    # one hot encode outputs\n",
        "    y_train = to_categorical(y_train,num_classes=2)\n",
        "    y_test = to_categorical(y_test,num_classes=2)\n",
        "    num_classes = y_test.shape[1]\n",
        "    H+= [[[v1s1,v1s2,v1s3],[v2s1,v2s2,v2s3]]]\n",
        "    #print(v1s1,v2s1,v1s2,v2s2)\n",
        "    #print(y_train.shape)\n",
        "    graph = tf.Graph()\n",
        "    with tf.Session(graph=graph):\n",
        "      model3,datagen = build_model()\n",
        "      cnn([[[v1s1,v1s2,v1s3],[v2s1,v2s2,v2s3]]],X_train,X_test,y_train,y_test,datagen,model3)    "
      ],
      "execution_count": 0,
      "outputs": [
        {
          "output_type": "stream",
          "text": [
            "[[[b'bicycle', b'bus', b'motorcycle'], [b'lawn_mower', b'rocket', b'streetcar']]] Accuracy: 56.69%\n",
            "[[[b'bicycle', b'bus', b'motorcycle'], [b'lawn_mower', b'rocket', b'tank']]] Accuracy: 52.19%\n",
            "[[[b'bicycle', b'bus', b'motorcycle'], [b'lawn_mower', b'rocket', b'tractor']]] Accuracy: 57.75%\n",
            "[[[b'bicycle', b'bus', b'motorcycle'], [b'lawn_mower', b'streetcar', b'tank']]] Accuracy: 52.69%\n",
            "[[[b'bicycle', b'bus', b'motorcycle'], [b'lawn_mower', b'streetcar', b'tractor']]] Accuracy: 53.19%\n",
            "[[[b'bicycle', b'bus', b'motorcycle'], [b'lawn_mower', b'tank', b'tractor']]] Accuracy: 51.58%\n",
            "[[[b'bicycle', b'bus', b'motorcycle'], [b'rocket', b'streetcar', b'tank']]] Accuracy: 54.69%\n",
            "[[[b'bicycle', b'bus', b'motorcycle'], [b'rocket', b'streetcar', b'tractor']]] Accuracy: 55.06%\n"
          ],
          "name": "stdout"
        },
        {
          "output_type": "stream",
          "text": [
            "Exception ignored in: <bound method BaseSession._Callable.__del__ of <tensorflow.python.client.session.BaseSession._Callable object at 0x7f7806bccc88>>\n",
            "Traceback (most recent call last):\n",
            "  File \"/usr/local/lib/python3.6/dist-packages/tensorflow/python/client/session.py\", line 1455, in __del__\n",
            "    self._session._session, self._handle, status)\n",
            "  File \"/usr/local/lib/python3.6/dist-packages/tensorflow/python/framework/errors_impl.py\", line 528, in __exit__\n",
            "    c_api.TF_GetCode(self.status.status))\n",
            "tensorflow.python.framework.errors_impl.CancelledError: Session has been closed.\n"
          ],
          "name": "stderr"
        },
        {
          "output_type": "stream",
          "text": [
            "[[[b'bicycle', b'bus', b'motorcycle'], [b'rocket', b'tank', b'tractor']]] Accuracy: 57.50%\n",
            "[[[b'bicycle', b'bus', b'motorcycle'], [b'streetcar', b'rocket', b'lawn_mower']]] Accuracy: 55.83%\n",
            "[[[b'bicycle', b'bus', b'pickup_truck'], [b'lawn_mower', b'rocket', b'streetcar']]] Accuracy: 58.61%\n"
          ],
          "name": "stdout"
        },
        {
          "output_type": "stream",
          "text": [
            "Exception ignored in: <bound method BaseSession._Callable.__del__ of <tensorflow.python.client.session.BaseSession._Callable object at 0x7f7807807c18>>\n",
            "Traceback (most recent call last):\n",
            "  File \"/usr/local/lib/python3.6/dist-packages/tensorflow/python/client/session.py\", line 1455, in __del__\n",
            "    self._session._session, self._handle, status)\n",
            "  File \"/usr/local/lib/python3.6/dist-packages/tensorflow/python/framework/errors_impl.py\", line 528, in __exit__\n",
            "    c_api.TF_GetCode(self.status.status))\n",
            "tensorflow.python.framework.errors_impl.CancelledError: Session has been closed.\n",
            "Exception ignored in: <bound method BaseSession._Callable.__del__ of <tensorflow.python.client.session.BaseSession._Callable object at 0x7f78077ac358>>\n",
            "Traceback (most recent call last):\n",
            "  File \"/usr/local/lib/python3.6/dist-packages/tensorflow/python/client/session.py\", line 1455, in __del__\n",
            "    self._session._session, self._handle, status)\n",
            "  File \"/usr/local/lib/python3.6/dist-packages/tensorflow/python/framework/errors_impl.py\", line 528, in __exit__\n",
            "    c_api.TF_GetCode(self.status.status))\n",
            "tensorflow.python.framework.errors_impl.CancelledError: Session has been closed.\n"
          ],
          "name": "stderr"
        },
        {
          "output_type": "stream",
          "text": [
            "[[[b'bicycle', b'bus', b'pickup_truck'], [b'lawn_mower', b'rocket', b'tank']]] Accuracy: 58.19%\n",
            "[[[b'bicycle', b'bus', b'pickup_truck'], [b'lawn_mower', b'rocket', b'tractor']]] Accuracy: 60.50%\n",
            "[[[b'bicycle', b'bus', b'pickup_truck'], [b'lawn_mower', b'streetcar', b'tank']]] Accuracy: 53.86%\n",
            "[[[b'bicycle', b'bus', b'pickup_truck'], [b'lawn_mower', b'streetcar', b'tractor']]] Accuracy: 53.11%\n"
          ],
          "name": "stdout"
        },
        {
          "output_type": "stream",
          "text": [
            "Exception ignored in: <bound method BaseSession._Callable.__del__ of <tensorflow.python.client.session.BaseSession._Callable object at 0x7f77f8ff5860>>\n",
            "Traceback (most recent call last):\n",
            "  File \"/usr/local/lib/python3.6/dist-packages/tensorflow/python/client/session.py\", line 1455, in __del__\n",
            "    self._session._session, self._handle, status)\n",
            "  File \"/usr/local/lib/python3.6/dist-packages/tensorflow/python/framework/errors_impl.py\", line 528, in __exit__\n",
            "    c_api.TF_GetCode(self.status.status))\n",
            "tensorflow.python.framework.errors_impl.CancelledError: Session has been closed.\n"
          ],
          "name": "stderr"
        },
        {
          "output_type": "stream",
          "text": [
            "[[[b'bicycle', b'bus', b'pickup_truck'], [b'lawn_mower', b'tank', b'tractor']]] Accuracy: 51.50%\n",
            "[[[b'bicycle', b'bus', b'pickup_truck'], [b'rocket', b'streetcar', b'tank']]] Accuracy: 56.42%\n",
            "[[[b'bicycle', b'bus', b'pickup_truck'], [b'rocket', b'streetcar', b'tractor']]] Accuracy: 55.06%\n",
            "[[[b'bicycle', b'bus', b'pickup_truck'], [b'rocket', b'tank', b'tractor']]] Accuracy: 56.03%\n"
          ],
          "name": "stdout"
        },
        {
          "output_type": "stream",
          "text": [
            "Exception ignored in: <bound method BaseSession._Callable.__del__ of <tensorflow.python.client.session.BaseSession._Callable object at 0x7f77f9a31ba8>>\n",
            "Traceback (most recent call last):\n",
            "  File \"/usr/local/lib/python3.6/dist-packages/tensorflow/python/client/session.py\", line 1455, in __del__\n",
            "    self._session._session, self._handle, status)\n",
            "  File \"/usr/local/lib/python3.6/dist-packages/tensorflow/python/framework/errors_impl.py\", line 528, in __exit__\n",
            "    c_api.TF_GetCode(self.status.status))\n",
            "tensorflow.python.framework.errors_impl.CancelledError: Session has been closed.\n",
            "Exception ignored in: <bound method BaseSession._Callable.__del__ of <tensorflow.python.client.session.BaseSession._Callable object at 0x7f77f59bb198>>\n",
            "Traceback (most recent call last):\n",
            "  File \"/usr/local/lib/python3.6/dist-packages/tensorflow/python/client/session.py\", line 1455, in __del__\n",
            "    self._session._session, self._handle, status)\n",
            "  File \"/usr/local/lib/python3.6/dist-packages/tensorflow/python/framework/errors_impl.py\", line 528, in __exit__\n",
            "    c_api.TF_GetCode(self.status.status))\n",
            "tensorflow.python.framework.errors_impl.CancelledError: Session has been closed.\n"
          ],
          "name": "stderr"
        },
        {
          "output_type": "stream",
          "text": [
            "[[[b'bicycle', b'bus', b'pickup_truck'], [b'streetcar', b'rocket', b'lawn_mower']]] Accuracy: 59.22%\n",
            "[[[b'bicycle', b'bus', b'train'], [b'lawn_mower', b'rocket', b'streetcar']]] Accuracy: 52.03%\n",
            "[[[b'bicycle', b'bus', b'train'], [b'lawn_mower', b'rocket', b'tank']]] Accuracy: 54.61%\n",
            "[[[b'bicycle', b'bus', b'train'], [b'lawn_mower', b'rocket', b'tractor']]] Accuracy: 56.89%\n",
            "[[[b'bicycle', b'bus', b'train'], [b'lawn_mower', b'streetcar', b'tank']]] Accuracy: 52.92%\n",
            "[[[b'bicycle', b'bus', b'train'], [b'lawn_mower', b'streetcar', b'tractor']]] Accuracy: 52.58%\n",
            "[[[b'bicycle', b'bus', b'train'], [b'lawn_mower', b'tank', b'tractor']]] Accuracy: 54.53%\n",
            "[[[b'bicycle', b'bus', b'train'], [b'rocket', b'streetcar', b'tank']]] Accuracy: 55.64%\n",
            "[[[b'bicycle', b'bus', b'train'], [b'rocket', b'streetcar', b'tractor']]] Accuracy: 55.69%\n",
            "[[[b'bicycle', b'bus', b'train'], [b'rocket', b'tank', b'tractor']]] Accuracy: 60.61%\n",
            "[[[b'bicycle', b'bus', b'train'], [b'streetcar', b'rocket', b'lawn_mower']]] Accuracy: 51.94%\n",
            "[[[b'bicycle', b'motorcycle', b'pickup_truck'], [b'lawn_mower', b'rocket', b'streetcar']]] Accuracy: 58.61%\n",
            "[[[b'bicycle', b'motorcycle', b'pickup_truck'], [b'lawn_mower', b'rocket', b'tank']]] Accuracy: 56.11%\n",
            "[[[b'bicycle', b'motorcycle', b'pickup_truck'], [b'lawn_mower', b'rocket', b'tractor']]] Accuracy: 57.86%\n",
            "[[[b'bicycle', b'motorcycle', b'pickup_truck'], [b'lawn_mower', b'streetcar', b'tank']]] Accuracy: 55.47%\n",
            "[[[b'bicycle', b'motorcycle', b'pickup_truck'], [b'lawn_mower', b'streetcar', b'tractor']]] Accuracy: 55.94%\n",
            "[[[b'bicycle', b'motorcycle', b'pickup_truck'], [b'lawn_mower', b'tank', b'tractor']]] Accuracy: 53.06%\n",
            "[[[b'bicycle', b'motorcycle', b'pickup_truck'], [b'rocket', b'streetcar', b'tank']]] Accuracy: 52.58%\n",
            "[[[b'bicycle', b'motorcycle', b'pickup_truck'], [b'rocket', b'streetcar', b'tractor']]] Accuracy: 54.44%\n",
            "[[[b'bicycle', b'motorcycle', b'pickup_truck'], [b'rocket', b'tank', b'tractor']]] Accuracy: 54.67%\n",
            "[[[b'bicycle', b'motorcycle', b'pickup_truck'], [b'streetcar', b'rocket', b'lawn_mower']]] Accuracy: 58.83%\n",
            "[[[b'bicycle', b'motorcycle', b'train'], [b'lawn_mower', b'rocket', b'streetcar']]] Accuracy: 54.14%\n",
            "[[[b'bicycle', b'motorcycle', b'train'], [b'lawn_mower', b'rocket', b'tank']]] Accuracy: 54.44%\n",
            "[[[b'bicycle', b'motorcycle', b'train'], [b'lawn_mower', b'rocket', b'tractor']]] Accuracy: 55.58%\n",
            "[[[b'bicycle', b'motorcycle', b'train'], [b'lawn_mower', b'streetcar', b'tank']]] Accuracy: 54.72%\n",
            "[[[b'bicycle', b'motorcycle', b'train'], [b'lawn_mower', b'streetcar', b'tractor']]] Accuracy: 54.61%\n",
            "[[[b'bicycle', b'motorcycle', b'train'], [b'lawn_mower', b'tank', b'tractor']]] Accuracy: 56.50%\n"
          ],
          "name": "stdout"
        },
        {
          "output_type": "stream",
          "text": [
            "Exception ignored in: <bound method BaseSession._Callable.__del__ of <tensorflow.python.client.session.BaseSession._Callable object at 0x7f77bbfe9c88>>\n",
            "Traceback (most recent call last):\n",
            "  File \"/usr/local/lib/python3.6/dist-packages/tensorflow/python/client/session.py\", line 1455, in __del__\n",
            "    self._session._session, self._handle, status)\n",
            "  File \"/usr/local/lib/python3.6/dist-packages/tensorflow/python/framework/errors_impl.py\", line 528, in __exit__\n",
            "    c_api.TF_GetCode(self.status.status))\n",
            "tensorflow.python.framework.errors_impl.CancelledError: Session has been closed.\n"
          ],
          "name": "stderr"
        },
        {
          "output_type": "stream",
          "text": [
            "[[[b'bicycle', b'motorcycle', b'train'], [b'rocket', b'streetcar', b'tank']]] Accuracy: 54.89%\n",
            "[[[b'bicycle', b'motorcycle', b'train'], [b'rocket', b'streetcar', b'tractor']]] Accuracy: 53.31%\n",
            "[[[b'bicycle', b'motorcycle', b'train'], [b'rocket', b'tank', b'tractor']]] Accuracy: 57.36%\n",
            "[[[b'bicycle', b'motorcycle', b'train'], [b'streetcar', b'rocket', b'lawn_mower']]] Accuracy: 53.61%\n",
            "[[[b'bicycle', b'pickup_truck', b'train'], [b'lawn_mower', b'rocket', b'streetcar']]] Accuracy: 53.83%\n",
            "[[[b'bicycle', b'pickup_truck', b'train'], [b'lawn_mower', b'rocket', b'tank']]] Accuracy: 56.44%\n",
            "[[[b'bicycle', b'pickup_truck', b'train'], [b'lawn_mower', b'rocket', b'tractor']]] Accuracy: 57.25%\n",
            "[[[b'bicycle', b'pickup_truck', b'train'], [b'lawn_mower', b'streetcar', b'tank']]] Accuracy: 54.97%\n",
            "[[[b'bicycle', b'pickup_truck', b'train'], [b'lawn_mower', b'streetcar', b'tractor']]] Accuracy: 52.08%\n",
            "[[[b'bicycle', b'pickup_truck', b'train'], [b'lawn_mower', b'tank', b'tractor']]] Accuracy: 55.11%\n"
          ],
          "name": "stdout"
        },
        {
          "output_type": "stream",
          "text": [
            "Exception ignored in: <bound method BaseSession._Callable.__del__ of <tensorflow.python.client.session.BaseSession._Callable object at 0x7f77bba25518>>\n",
            "Traceback (most recent call last):\n",
            "  File \"/usr/local/lib/python3.6/dist-packages/tensorflow/python/client/session.py\", line 1455, in __del__\n",
            "    self._session._session, self._handle, status)\n",
            "  File \"/usr/local/lib/python3.6/dist-packages/tensorflow/python/framework/errors_impl.py\", line 528, in __exit__\n",
            "    c_api.TF_GetCode(self.status.status))\n",
            "tensorflow.python.framework.errors_impl.CancelledError: Session has been closed.\n",
            "Exception ignored in: <bound method BaseSession._Callable.__del__ of <tensorflow.python.client.session.BaseSession._Callable object at 0x7f77bba4a550>>\n",
            "Traceback (most recent call last):\n",
            "  File \"/usr/local/lib/python3.6/dist-packages/tensorflow/python/client/session.py\", line 1455, in __del__\n",
            "    self._session._session, self._handle, status)\n",
            "  File \"/usr/local/lib/python3.6/dist-packages/tensorflow/python/framework/errors_impl.py\", line 528, in __exit__\n",
            "    c_api.TF_GetCode(self.status.status))\n",
            "tensorflow.python.framework.errors_impl.CancelledError: Session has been closed.\n",
            "Exception ignored in: <bound method BaseSession._Callable.__del__ of <tensorflow.python.client.session.BaseSession._Callable object at 0x7f77a83af9e8>>\n",
            "Traceback (most recent call last):\n",
            "  File \"/usr/local/lib/python3.6/dist-packages/tensorflow/python/client/session.py\", line 1455, in __del__\n",
            "    self._session._session, self._handle, status)\n",
            "  File \"/usr/local/lib/python3.6/dist-packages/tensorflow/python/framework/errors_impl.py\", line 528, in __exit__\n",
            "    c_api.TF_GetCode(self.status.status))\n",
            "tensorflow.python.framework.errors_impl.CancelledError: Session has been closed.\n"
          ],
          "name": "stderr"
        },
        {
          "output_type": "stream",
          "text": [
            "[[[b'bicycle', b'pickup_truck', b'train'], [b'rocket', b'streetcar', b'tank']]] Accuracy: 56.25%\n",
            "[[[b'bicycle', b'pickup_truck', b'train'], [b'rocket', b'streetcar', b'tractor']]] Accuracy: 54.33%\n",
            "[[[b'bicycle', b'pickup_truck', b'train'], [b'rocket', b'tank', b'tractor']]] Accuracy: 61.25%\n",
            "[[[b'bicycle', b'pickup_truck', b'train'], [b'streetcar', b'rocket', b'lawn_mower']]] Accuracy: 52.94%\n",
            "[[[b'bus', b'motorcycle', b'pickup_truck'], [b'lawn_mower', b'rocket', b'streetcar']]] Accuracy: 52.22%\n",
            "[[[b'bus', b'motorcycle', b'pickup_truck'], [b'lawn_mower', b'rocket', b'tank']]] Accuracy: 50.00%\n",
            "[[[b'bus', b'motorcycle', b'pickup_truck'], [b'lawn_mower', b'rocket', b'tractor']]] Accuracy: 50.53%\n",
            "[[[b'bus', b'motorcycle', b'pickup_truck'], [b'lawn_mower', b'streetcar', b'tank']]] Accuracy: 55.14%\n",
            "[[[b'bus', b'motorcycle', b'pickup_truck'], [b'lawn_mower', b'streetcar', b'tractor']]] Accuracy: 54.89%\n",
            "[[[b'bus', b'motorcycle', b'pickup_truck'], [b'lawn_mower', b'tank', b'tractor']]] Accuracy: 52.47%\n",
            "[[[b'bus', b'motorcycle', b'pickup_truck'], [b'rocket', b'streetcar', b'tank']]] Accuracy: 50.00%\n",
            "[[[b'bus', b'motorcycle', b'pickup_truck'], [b'rocket', b'streetcar', b'tractor']]] Accuracy: 50.33%\n"
          ],
          "name": "stdout"
        },
        {
          "output_type": "stream",
          "text": [
            "Exception ignored in: <bound method BaseSession._Callable.__del__ of <tensorflow.python.client.session.BaseSession._Callable object at 0x7f77a8fe1940>>\n",
            "Traceback (most recent call last):\n",
            "  File \"/usr/local/lib/python3.6/dist-packages/tensorflow/python/client/session.py\", line 1455, in __del__\n",
            "    self._session._session, self._handle, status)\n",
            "  File \"/usr/local/lib/python3.6/dist-packages/tensorflow/python/framework/errors_impl.py\", line 528, in __exit__\n",
            "    c_api.TF_GetCode(self.status.status))\n",
            "tensorflow.python.framework.errors_impl.CancelledError: Session has been closed.\n",
            "Exception ignored in: <bound method BaseSession._Callable.__del__ of <tensorflow.python.client.session.BaseSession._Callable object at 0x7f77a8fe1860>>\n",
            "Traceback (most recent call last):\n",
            "  File \"/usr/local/lib/python3.6/dist-packages/tensorflow/python/client/session.py\", line 1455, in __del__\n",
            "    self._session._session, self._handle, status)\n",
            "  File \"/usr/local/lib/python3.6/dist-packages/tensorflow/python/framework/errors_impl.py\", line 528, in __exit__\n",
            "    c_api.TF_GetCode(self.status.status))\n",
            "tensorflow.python.framework.errors_impl.CancelledError: Session has been closed.\n",
            "Exception ignored in: <bound method BaseSession._Callable.__del__ of <tensorflow.python.client.session.BaseSession._Callable object at 0x7f779095d9e8>>\n",
            "Traceback (most recent call last):\n",
            "  File \"/usr/local/lib/python3.6/dist-packages/tensorflow/python/client/session.py\", line 1455, in __del__\n",
            "    self._session._session, self._handle, status)\n",
            "  File \"/usr/local/lib/python3.6/dist-packages/tensorflow/python/framework/errors_impl.py\", line 528, in __exit__\n",
            "    c_api.TF_GetCode(self.status.status))\n",
            "tensorflow.python.framework.errors_impl.CancelledError: Session has been closed.\n"
          ],
          "name": "stderr"
        },
        {
          "output_type": "stream",
          "text": [
            "[[[b'bus', b'motorcycle', b'pickup_truck'], [b'rocket', b'tank', b'tractor']]] Accuracy: 50.00%\n",
            "[[[b'bus', b'motorcycle', b'pickup_truck'], [b'streetcar', b'rocket', b'lawn_mower']]] Accuracy: 52.31%\n",
            "[[[b'bus', b'motorcycle', b'train'], [b'lawn_mower', b'rocket', b'streetcar']]] Accuracy: 49.97%\n",
            "[[[b'bus', b'motorcycle', b'train'], [b'lawn_mower', b'rocket', b'tank']]] Accuracy: 50.00%\n",
            "[[[b'bus', b'motorcycle', b'train'], [b'lawn_mower', b'rocket', b'tractor']]] Accuracy: 50.39%\n",
            "[[[b'bus', b'motorcycle', b'train'], [b'lawn_mower', b'streetcar', b'tank']]] Accuracy: 54.89%\n",
            "[[[b'bus', b'motorcycle', b'train'], [b'lawn_mower', b'streetcar', b'tractor']]] Accuracy: 56.64%\n",
            "[[[b'bus', b'motorcycle', b'train'], [b'lawn_mower', b'tank', b'tractor']]] Accuracy: 55.64%\n",
            "[[[b'bus', b'motorcycle', b'train'], [b'rocket', b'streetcar', b'tank']]] Accuracy: 55.56%\n",
            "[[[b'bus', b'motorcycle', b'train'], [b'rocket', b'streetcar', b'tractor']]] Accuracy: 53.58%\n",
            "[[[b'bus', b'motorcycle', b'train'], [b'rocket', b'tank', b'tractor']]] Accuracy: 58.06%\n",
            "[[[b'bus', b'motorcycle', b'train'], [b'streetcar', b'rocket', b'lawn_mower']]] Accuracy: 49.94%\n",
            "[[[b'bus', b'pickup_truck', b'train'], [b'lawn_mower', b'rocket', b'streetcar']]] Accuracy: 49.83%\n",
            "[[[b'bus', b'pickup_truck', b'train'], [b'lawn_mower', b'rocket', b'tank']]] Accuracy: 50.00%\n"
          ],
          "name": "stdout"
        },
        {
          "output_type": "stream",
          "text": [
            "Exception ignored in: <bound method BaseSession._Callable.__del__ of <tensorflow.python.client.session.BaseSession._Callable object at 0x7f77915d4c18>>\n",
            "Traceback (most recent call last):\n",
            "  File \"/usr/local/lib/python3.6/dist-packages/tensorflow/python/client/session.py\", line 1455, in __del__\n",
            "    self._session._session, self._handle, status)\n",
            "  File \"/usr/local/lib/python3.6/dist-packages/tensorflow/python/framework/errors_impl.py\", line 528, in __exit__\n",
            "    c_api.TF_GetCode(self.status.status))\n",
            "tensorflow.python.framework.errors_impl.CancelledError: Session has been closed.\n",
            "Exception ignored in: <bound method BaseSession._Callable.__del__ of <tensorflow.python.client.session.BaseSession._Callable object at 0x7f77915d4080>>\n",
            "Traceback (most recent call last):\n",
            "  File \"/usr/local/lib/python3.6/dist-packages/tensorflow/python/client/session.py\", line 1455, in __del__\n",
            "    self._session._session, self._handle, status)\n",
            "  File \"/usr/local/lib/python3.6/dist-packages/tensorflow/python/framework/errors_impl.py\", line 528, in __exit__\n",
            "    c_api.TF_GetCode(self.status.status))\n",
            "tensorflow.python.framework.errors_impl.CancelledError: Session has been closed.\n"
          ],
          "name": "stderr"
        },
        {
          "output_type": "stream",
          "text": [
            "[[[b'bus', b'pickup_truck', b'train'], [b'lawn_mower', b'rocket', b'tractor']]] Accuracy: 50.00%\n",
            "[[[b'bus', b'pickup_truck', b'train'], [b'lawn_mower', b'streetcar', b'tank']]] Accuracy: 53.28%\n",
            "[[[b'bus', b'pickup_truck', b'train'], [b'lawn_mower', b'streetcar', b'tractor']]] Accuracy: 52.36%\n",
            "[[[b'bus', b'pickup_truck', b'train'], [b'lawn_mower', b'tank', b'tractor']]] Accuracy: 52.92%\n",
            "[[[b'bus', b'pickup_truck', b'train'], [b'rocket', b'streetcar', b'tank']]] Accuracy: 51.67%\n",
            "[[[b'bus', b'pickup_truck', b'train'], [b'rocket', b'streetcar', b'tractor']]] Accuracy: 50.75%\n",
            "[[[b'bus', b'pickup_truck', b'train'], [b'rocket', b'tank', b'tractor']]] Accuracy: 51.00%\n",
            "[[[b'bus', b'pickup_truck', b'train'], [b'streetcar', b'rocket', b'lawn_mower']]] Accuracy: 49.89%\n",
            "[[[b'motorcycle', b'bus', b'bicycle'], [b'lawn_mower', b'rocket', b'streetcar']]] Accuracy: 55.36%\n",
            "[[[b'motorcycle', b'bus', b'bicycle'], [b'lawn_mower', b'rocket', b'tank']]] Accuracy: 51.89%\n",
            "[[[b'motorcycle', b'bus', b'bicycle'], [b'lawn_mower', b'rocket', b'tractor']]] Accuracy: 60.28%\n",
            "[[[b'motorcycle', b'bus', b'bicycle'], [b'lawn_mower', b'streetcar', b'tank']]] Accuracy: 52.72%\n",
            "[[[b'motorcycle', b'bus', b'bicycle'], [b'lawn_mower', b'streetcar', b'tractor']]] Accuracy: 56.28%\n",
            "[[[b'motorcycle', b'bus', b'bicycle'], [b'lawn_mower', b'tank', b'tractor']]] Accuracy: 50.36%\n",
            "[[[b'motorcycle', b'bus', b'bicycle'], [b'rocket', b'streetcar', b'tank']]] Accuracy: 53.97%\n",
            "[[[b'motorcycle', b'bus', b'bicycle'], [b'rocket', b'streetcar', b'tractor']]] Accuracy: 55.19%\n",
            "[[[b'motorcycle', b'bus', b'bicycle'], [b'rocket', b'tank', b'tractor']]] Accuracy: 57.50%\n"
          ],
          "name": "stdout"
        },
        {
          "output_type": "stream",
          "text": [
            "Exception ignored in: <bound method BaseSession._Callable.__del__ of <tensorflow.python.client.session.BaseSession._Callable object at 0x7f7753187c88>>\n",
            "Traceback (most recent call last):\n",
            "  File \"/usr/local/lib/python3.6/dist-packages/tensorflow/python/client/session.py\", line 1455, in __del__\n",
            "    self._session._session, self._handle, status)\n",
            "  File \"/usr/local/lib/python3.6/dist-packages/tensorflow/python/framework/errors_impl.py\", line 528, in __exit__\n",
            "    c_api.TF_GetCode(self.status.status))\n",
            "tensorflow.python.framework.errors_impl.CancelledError: Session has been closed.\n"
          ],
          "name": "stderr"
        },
        {
          "output_type": "stream",
          "text": [
            "[[[b'motorcycle', b'bus', b'bicycle'], [b'streetcar', b'rocket', b'lawn_mower']]] Accuracy: 56.08%\n"
          ],
          "name": "stdout"
        }
      ]
    },
    {
      "cell_type": "code",
      "metadata": {
        "id": "YrNbE25x34I_",
        "colab_type": "code",
        "outputId": "3aa83240-fa04-4baf-ac68-761a06ec1217",
        "colab": {
          "base_uri": "https://localhost:8080/",
          "height": 10261
        }
      },
      "source": [
        "save_dir = os.path.join(os.getcwd(), 'saved_models')\n",
        "!ls saved_models"
      ],
      "execution_count": 0,
      "outputs": [
        {
          "output_type": "stream",
          "text": [
            "'c_[[[bbicycle, bbus, bmotorcycle], [blawn_mower, brocket, bstreetcar]]]_m.001.h5'\n",
            "'c_[[[bbicycle, bbus, bmotorcycle], [blawn_mower, brocket, bstreetcar]]]_m.004.h5'\n",
            "'c_[[[bbicycle, bbus, bmotorcycle], [blawn_mower, brocket, bstreetcar]]]_m.005.h5'\n",
            "'c_[[[bbicycle, bbus, bmotorcycle], [blawn_mower, brocket, bstreetcar]]]_m.006.h5'\n",
            "'c_[[[bbicycle, bbus, bmotorcycle], [blawn_mower, brocket, bstreetcar]]]_m.007.h5'\n",
            "'c_[[[bbicycle, bbus, bmotorcycle], [blawn_mower, brocket, bstreetcar]]]_m.008.h5'\n",
            "'c_[[[bbicycle, bbus, bmotorcycle], [blawn_mower, brocket, bstreetcar]]]_m.009.h5'\n",
            "'c_[[[bbicycle, bbus, bmotorcycle], [blawn_mower, brocket, bstreetcar]]]_m.010.h5'\n",
            "'c_[[[bbicycle, bbus, bmotorcycle], [blawn_mower, brocket, btank]]]_m.001.h5'\n",
            "'c_[[[bbicycle, bbus, bmotorcycle], [blawn_mower, brocket, btank]]]_m.011.h5'\n",
            "'c_[[[bbicycle, bbus, bmotorcycle], [blawn_mower, brocket, btank]]]_m.012.h5'\n",
            "'c_[[[bbicycle, bbus, bmotorcycle], [blawn_mower, brocket, btank]]]_m.013.h5'\n",
            "'c_[[[bbicycle, bbus, bmotorcycle], [blawn_mower, brocket, btractor]]]_m.001.h5'\n",
            "'c_[[[bbicycle, bbus, bmotorcycle], [blawn_mower, brocket, btractor]]]_m.002.h5'\n",
            "'c_[[[bbicycle, bbus, bmotorcycle], [blawn_mower, brocket, btractor]]]_m.005.h5'\n",
            "'c_[[[bbicycle, bbus, bmotorcycle], [blawn_mower, brocket, btractor]]]_m.006.h5'\n",
            "'c_[[[bbicycle, bbus, bmotorcycle], [blawn_mower, brocket, btractor]]]_m.008.h5'\n",
            "'c_[[[bbicycle, bbus, bmotorcycle], [blawn_mower, brocket, btractor]]]_m.012.h5'\n",
            "'c_[[[bbicycle, bbus, bmotorcycle], [blawn_mower, brocket, btractor]]]_m.013.h5'\n",
            "'c_[[[bbicycle, bbus, bmotorcycle], [blawn_mower, brocket, btractor]]]_m.014.h5'\n",
            "'c_[[[bbicycle, bbus, bmotorcycle], [blawn_mower, brocket, btractor]]]_m.015.h5'\n",
            "'c_[[[bbicycle, bbus, bmotorcycle], [blawn_mower, brocket, btractor]]]_m.020.h5'\n",
            "'c_[[[bbicycle, bbus, bmotorcycle], [blawn_mower, bstreetcar, btank]]]_m.001.h5'\n",
            "'c_[[[bbicycle, bbus, bmotorcycle], [blawn_mower, bstreetcar, btank]]]_m.002.h5'\n",
            "'c_[[[bbicycle, bbus, bmotorcycle], [blawn_mower, bstreetcar, btank]]]_m.008.h5'\n",
            "'c_[[[bbicycle, bbus, bmotorcycle], [blawn_mower, bstreetcar, btank]]]_m.009.h5'\n",
            "'c_[[[bbicycle, bbus, bmotorcycle], [blawn_mower, bstreetcar, btank]]]_m.012.h5'\n",
            "'c_[[[bbicycle, bbus, bmotorcycle], [blawn_mower, bstreetcar, btank]]]_m.013.h5'\n",
            "'c_[[[bbicycle, bbus, bmotorcycle], [blawn_mower, bstreetcar, btractor]]]_m.001.h5'\n",
            "'c_[[[bbicycle, bbus, bmotorcycle], [blawn_mower, bstreetcar, btractor]]]_m.010.h5'\n",
            "'c_[[[bbicycle, bbus, bmotorcycle], [blawn_mower, bstreetcar, btractor]]]_m.014.h5'\n",
            "'c_[[[bbicycle, bbus, bmotorcycle], [blawn_mower, bstreetcar, btractor]]]_m.015.h5'\n",
            "'c_[[[bbicycle, bbus, bmotorcycle], [blawn_mower, bstreetcar, btractor]]]_m.016.h5'\n",
            "'c_[[[bbicycle, bbus, bmotorcycle], [blawn_mower, bstreetcar, btractor]]]_m.021.h5'\n",
            "'c_[[[bbicycle, bbus, bmotorcycle], [blawn_mower, bstreetcar, btractor]]]_m.022.h5'\n",
            "'c_[[[bbicycle, bbus, bmotorcycle], [blawn_mower, bstreetcar, btractor]]]_m.024.h5'\n",
            "'c_[[[bbicycle, bbus, bmotorcycle], [blawn_mower, btank, btractor]]]_m.001.h5'\n",
            "'c_[[[bbicycle, bbus, bmotorcycle], [blawn_mower, btank, btractor]]]_m.019.h5'\n",
            "'c_[[[bbicycle, bbus, bmotorcycle], [blawn_mower, btank, btractor]]]_m.020.h5'\n",
            "'c_[[[bbicycle, bbus, bmotorcycle], [brocket, bstreetcar, btank]]]_m.001.h5'\n",
            "'c_[[[bbicycle, bbus, bmotorcycle], [brocket, bstreetcar, btank]]]_m.006.h5'\n",
            "'c_[[[bbicycle, bbus, bmotorcycle], [brocket, bstreetcar, btank]]]_m.007.h5'\n",
            "'c_[[[bbicycle, bbus, bmotorcycle], [brocket, bstreetcar, btank]]]_m.008.h5'\n",
            "'c_[[[bbicycle, bbus, bmotorcycle], [brocket, bstreetcar, btank]]]_m.011.h5'\n",
            "'c_[[[bbicycle, bbus, bmotorcycle], [brocket, bstreetcar, btank]]]_m.013.h5'\n",
            "'c_[[[bbicycle, bbus, bmotorcycle], [brocket, bstreetcar, btractor]]]_m.001.h5'\n",
            "'c_[[[bbicycle, bbus, bmotorcycle], [brocket, bstreetcar, btractor]]]_m.006.h5'\n",
            "'c_[[[bbicycle, bbus, bmotorcycle], [brocket, bstreetcar, btractor]]]_m.007.h5'\n",
            "'c_[[[bbicycle, bbus, bmotorcycle], [brocket, bstreetcar, btractor]]]_m.008.h5'\n",
            "'c_[[[bbicycle, bbus, bmotorcycle], [brocket, bstreetcar, btractor]]]_m.009.h5'\n",
            "'c_[[[bbicycle, bbus, bmotorcycle], [brocket, bstreetcar, btractor]]]_m.010.h5'\n",
            "'c_[[[bbicycle, bbus, bmotorcycle], [brocket, btank, btractor]]]_m.001.h5'\n",
            "'c_[[[bbicycle, bbus, bmotorcycle], [brocket, btank, btractor]]]_m.007.h5'\n",
            "'c_[[[bbicycle, bbus, bmotorcycle], [brocket, btank, btractor]]]_m.008.h5'\n",
            "'c_[[[bbicycle, bbus, bmotorcycle], [brocket, btank, btractor]]]_m.009.h5'\n",
            "'c_[[[bbicycle, bbus, bmotorcycle], [brocket, btank, btractor]]]_m.010.h5'\n",
            "'c_[[[bbicycle, bbus, bmotorcycle], [brocket, btank, btractor]]]_m.013.h5'\n",
            "'c_[[[bbicycle, bbus, bmotorcycle], [bstreetcar, brocket, blawn_mower]]]_m.001.h5'\n",
            "'c_[[[bbicycle, bbus, bmotorcycle], [bstreetcar, brocket, blawn_mower]]]_m.006.h5'\n",
            "'c_[[[bbicycle, bbus, bmotorcycle], [bstreetcar, brocket, blawn_mower]]]_m.007.h5'\n",
            "'c_[[[bbicycle, bbus, bmotorcycle], [bstreetcar, brocket, blawn_mower]]]_m.011.h5'\n",
            "'c_[[[bbicycle, bbus, bmotorcycle], [bstreetcar, brocket, blawn_mower]]]_m.012.h5'\n",
            "'c_[[[bbicycle, bbus, bpickup_truck], [blawn_mower, brocket, bstreetcar]]]_m.001.h5'\n",
            "'c_[[[bbicycle, bbus, bpickup_truck], [blawn_mower, brocket, bstreetcar]]]_m.006.h5'\n",
            "'c_[[[bbicycle, bbus, bpickup_truck], [blawn_mower, brocket, bstreetcar]]]_m.007.h5'\n",
            "'c_[[[bbicycle, bbus, bpickup_truck], [blawn_mower, brocket, bstreetcar]]]_m.008.h5'\n",
            "'c_[[[bbicycle, bbus, bpickup_truck], [blawn_mower, brocket, bstreetcar]]]_m.010.h5'\n",
            "'c_[[[bbicycle, bbus, bpickup_truck], [blawn_mower, brocket, bstreetcar]]]_m.012.h5'\n",
            "'c_[[[bbicycle, bbus, bpickup_truck], [blawn_mower, brocket, bstreetcar]]]_m.016.h5'\n",
            "'c_[[[bbicycle, bbus, bpickup_truck], [blawn_mower, brocket, bstreetcar]]]_m.017.h5'\n",
            "'c_[[[bbicycle, bbus, bpickup_truck], [blawn_mower, brocket, btank]]]_m.001.h5'\n",
            "'c_[[[bbicycle, bbus, bpickup_truck], [blawn_mower, brocket, btank]]]_m.009.h5'\n",
            "'c_[[[bbicycle, bbus, bpickup_truck], [blawn_mower, brocket, btank]]]_m.010.h5'\n",
            "'c_[[[bbicycle, bbus, bpickup_truck], [blawn_mower, brocket, btank]]]_m.011.h5'\n",
            "'c_[[[bbicycle, bbus, bpickup_truck], [blawn_mower, brocket, btank]]]_m.015.h5'\n",
            "'c_[[[bbicycle, bbus, bpickup_truck], [blawn_mower, brocket, btank]]]_m.019.h5'\n",
            "'c_[[[bbicycle, bbus, bpickup_truck], [blawn_mower, brocket, btractor]]]_m.001.h5'\n",
            "'c_[[[bbicycle, bbus, bpickup_truck], [blawn_mower, brocket, btractor]]]_m.004.h5'\n",
            "'c_[[[bbicycle, bbus, bpickup_truck], [blawn_mower, brocket, btractor]]]_m.006.h5'\n",
            "'c_[[[bbicycle, bbus, bpickup_truck], [blawn_mower, brocket, btractor]]]_m.008.h5'\n",
            "'c_[[[bbicycle, bbus, bpickup_truck], [blawn_mower, brocket, btractor]]]_m.009.h5'\n",
            "'c_[[[bbicycle, bbus, bpickup_truck], [blawn_mower, brocket, btractor]]]_m.010.h5'\n",
            "'c_[[[bbicycle, bbus, bpickup_truck], [blawn_mower, bstreetcar, btank]]]_m.001.h5'\n",
            "'c_[[[bbicycle, bbus, bpickup_truck], [blawn_mower, bstreetcar, btank]]]_m.002.h5'\n",
            "'c_[[[bbicycle, bbus, bpickup_truck], [blawn_mower, bstreetcar, btank]]]_m.009.h5'\n",
            "'c_[[[bbicycle, bbus, bpickup_truck], [blawn_mower, bstreetcar, btank]]]_m.010.h5'\n",
            "'c_[[[bbicycle, bbus, bpickup_truck], [blawn_mower, bstreetcar, btank]]]_m.011.h5'\n",
            "'c_[[[bbicycle, bbus, bpickup_truck], [blawn_mower, bstreetcar, btank]]]_m.012.h5'\n",
            "'c_[[[bbicycle, bbus, bpickup_truck], [blawn_mower, bstreetcar, btractor]]]_m.001.h5'\n",
            "'c_[[[bbicycle, bbus, bpickup_truck], [blawn_mower, bstreetcar, btractor]]]_m.010.h5'\n",
            "'c_[[[bbicycle, bbus, bpickup_truck], [blawn_mower, bstreetcar, btractor]]]_m.022.h5'\n",
            "'c_[[[bbicycle, bbus, bpickup_truck], [blawn_mower, btank, btractor]]]_m.001.h5'\n",
            "'c_[[[bbicycle, bbus, bpickup_truck], [blawn_mower, btank, btractor]]]_m.010.h5'\n",
            "'c_[[[bbicycle, bbus, bpickup_truck], [blawn_mower, btank, btractor]]]_m.013.h5'\n",
            "'c_[[[bbicycle, bbus, bpickup_truck], [blawn_mower, btank, btractor]]]_m.015.h5'\n",
            "'c_[[[bbicycle, bbus, bpickup_truck], [blawn_mower, btank, btractor]]]_m.018.h5'\n",
            "'c_[[[bbicycle, bbus, bpickup_truck], [blawn_mower, btank, btractor]]]_m.019.h5'\n",
            "'c_[[[bbicycle, bbus, bpickup_truck], [blawn_mower, btank, btractor]]]_m.020.h5'\n",
            "'c_[[[bbicycle, bbus, bpickup_truck], [blawn_mower, btank, btractor]]]_m.023.h5'\n",
            "'c_[[[bbicycle, bbus, bpickup_truck], [brocket, bstreetcar, btank]]]_m.001.h5'\n",
            "'c_[[[bbicycle, bbus, bpickup_truck], [brocket, bstreetcar, btank]]]_m.003.h5'\n",
            "'c_[[[bbicycle, bbus, bpickup_truck], [brocket, bstreetcar, btank]]]_m.006.h5'\n",
            "'c_[[[bbicycle, bbus, bpickup_truck], [brocket, bstreetcar, btank]]]_m.007.h5'\n",
            "'c_[[[bbicycle, bbus, bpickup_truck], [brocket, bstreetcar, btank]]]_m.008.h5'\n",
            "'c_[[[bbicycle, bbus, bpickup_truck], [brocket, bstreetcar, btank]]]_m.010.h5'\n",
            "'c_[[[bbicycle, bbus, bpickup_truck], [brocket, bstreetcar, btank]]]_m.011.h5'\n",
            "'c_[[[bbicycle, bbus, bpickup_truck], [brocket, bstreetcar, btank]]]_m.019.h5'\n",
            "'c_[[[bbicycle, bbus, bpickup_truck], [brocket, bstreetcar, btractor]]]_m.001.h5'\n",
            "'c_[[[bbicycle, bbus, bpickup_truck], [brocket, bstreetcar, btractor]]]_m.004.h5'\n",
            "'c_[[[bbicycle, bbus, bpickup_truck], [brocket, bstreetcar, btractor]]]_m.005.h5'\n",
            "'c_[[[bbicycle, bbus, bpickup_truck], [brocket, bstreetcar, btractor]]]_m.007.h5'\n",
            "'c_[[[bbicycle, bbus, bpickup_truck], [brocket, bstreetcar, btractor]]]_m.008.h5'\n",
            "'c_[[[bbicycle, bbus, bpickup_truck], [brocket, bstreetcar, btractor]]]_m.020.h5'\n",
            "'c_[[[bbicycle, bbus, bpickup_truck], [brocket, btank, btractor]]]_m.001.h5'\n",
            "'c_[[[bbicycle, bbus, bpickup_truck], [brocket, btank, btractor]]]_m.007.h5'\n",
            "'c_[[[bbicycle, bbus, bpickup_truck], [brocket, btank, btractor]]]_m.008.h5'\n",
            "'c_[[[bbicycle, bbus, bpickup_truck], [brocket, btank, btractor]]]_m.009.h5'\n",
            "'c_[[[bbicycle, bbus, bpickup_truck], [brocket, btank, btractor]]]_m.010.h5'\n",
            "'c_[[[bbicycle, bbus, bpickup_truck], [brocket, btank, btractor]]]_m.011.h5'\n",
            "'c_[[[bbicycle, bbus, bpickup_truck], [brocket, btank, btractor]]]_m.014.h5'\n",
            "'c_[[[bbicycle, bbus, bpickup_truck], [bstreetcar, brocket, blawn_mower]]]_m.001.h5'\n",
            "'c_[[[bbicycle, bbus, bpickup_truck], [bstreetcar, brocket, blawn_mower]]]_m.003.h5'\n",
            "'c_[[[bbicycle, bbus, bpickup_truck], [bstreetcar, brocket, blawn_mower]]]_m.007.h5'\n",
            "'c_[[[bbicycle, bbus, bpickup_truck], [bstreetcar, brocket, blawn_mower]]]_m.008.h5'\n",
            "'c_[[[bbicycle, bbus, bpickup_truck], [bstreetcar, brocket, blawn_mower]]]_m.009.h5'\n",
            "'c_[[[bbicycle, bbus, bpickup_truck], [bstreetcar, brocket, blawn_mower]]]_m.010.h5'\n",
            "'c_[[[bbicycle, bbus, bpickup_truck], [bstreetcar, brocket, blawn_mower]]]_m.014.h5'\n",
            "'c_[[[bbicycle, bbus, bpickup_truck], [bstreetcar, brocket, blawn_mower]]]_m.017.h5'\n",
            "'c_[[[bbicycle, bbus, bpickup_truck], [bstreetcar, brocket, blawn_mower]]]_m.020.h5'\n",
            "'c_[[[bbicycle, bbus, bpickup_truck], [bstreetcar, brocket, blawn_mower]]]_m.022.h5'\n",
            "'c_[[[bbicycle, bbus, bpickup_truck], [bstreetcar, brocket, blawn_mower]]]_m.023.h5'\n",
            "'c_[[[bbicycle, bbus, btrain], [blawn_mower, brocket, bstreetcar]]]_m.001.h5'\n",
            "'c_[[[bbicycle, bbus, btrain], [blawn_mower, brocket, bstreetcar]]]_m.007.h5'\n",
            "'c_[[[bbicycle, bbus, btrain], [blawn_mower, brocket, bstreetcar]]]_m.009.h5'\n",
            "'c_[[[bbicycle, bbus, btrain], [blawn_mower, brocket, btank]]]_m.001.h5'\n",
            "'c_[[[bbicycle, bbus, btrain], [blawn_mower, brocket, btank]]]_m.009.h5'\n",
            "'c_[[[bbicycle, bbus, btrain], [blawn_mower, brocket, btank]]]_m.023.h5'\n",
            "'c_[[[bbicycle, bbus, btrain], [blawn_mower, brocket, btractor]]]_m.001.h5'\n",
            "'c_[[[bbicycle, bbus, btrain], [blawn_mower, brocket, btractor]]]_m.007.h5'\n",
            "'c_[[[bbicycle, bbus, btrain], [blawn_mower, brocket, btractor]]]_m.008.h5'\n",
            "'c_[[[bbicycle, bbus, btrain], [blawn_mower, brocket, btractor]]]_m.009.h5'\n",
            "'c_[[[bbicycle, bbus, btrain], [blawn_mower, brocket, btractor]]]_m.010.h5'\n",
            "'c_[[[bbicycle, bbus, btrain], [blawn_mower, brocket, btractor]]]_m.011.h5'\n",
            "'c_[[[bbicycle, bbus, btrain], [blawn_mower, bstreetcar, btank]]]_m.001.h5'\n",
            "'c_[[[bbicycle, bbus, btrain], [blawn_mower, bstreetcar, btank]]]_m.005.h5'\n",
            "'c_[[[bbicycle, bbus, btrain], [blawn_mower, bstreetcar, btank]]]_m.006.h5'\n",
            "'c_[[[bbicycle, bbus, btrain], [blawn_mower, bstreetcar, btank]]]_m.007.h5'\n",
            "'c_[[[bbicycle, bbus, btrain], [blawn_mower, bstreetcar, btractor]]]_m.001.h5'\n",
            "'c_[[[bbicycle, bbus, btrain], [blawn_mower, bstreetcar, btractor]]]_m.002.h5'\n",
            "'c_[[[bbicycle, bbus, btrain], [blawn_mower, bstreetcar, btractor]]]_m.008.h5'\n",
            "'c_[[[bbicycle, bbus, btrain], [blawn_mower, bstreetcar, btractor]]]_m.010.h5'\n",
            "'c_[[[bbicycle, bbus, btrain], [blawn_mower, bstreetcar, btractor]]]_m.011.h5'\n",
            "'c_[[[bbicycle, bbus, btrain], [blawn_mower, bstreetcar, btractor]]]_m.012.h5'\n",
            "'c_[[[bbicycle, bbus, btrain], [blawn_mower, bstreetcar, btractor]]]_m.013.h5'\n",
            "'c_[[[bbicycle, bbus, btrain], [blawn_mower, bstreetcar, btractor]]]_m.015.h5'\n",
            "'c_[[[bbicycle, bbus, btrain], [blawn_mower, bstreetcar, btractor]]]_m.019.h5'\n",
            "'c_[[[bbicycle, bbus, btrain], [blawn_mower, bstreetcar, btractor]]]_m.022.h5'\n",
            "'c_[[[bbicycle, bbus, btrain], [blawn_mower, btank, btractor]]]_m.001.h5'\n",
            "'c_[[[bbicycle, bbus, btrain], [blawn_mower, btank, btractor]]]_m.008.h5'\n",
            "'c_[[[bbicycle, bbus, btrain], [blawn_mower, btank, btractor]]]_m.009.h5'\n",
            "'c_[[[bbicycle, bbus, btrain], [blawn_mower, btank, btractor]]]_m.010.h5'\n",
            "'c_[[[bbicycle, bbus, btrain], [blawn_mower, btank, btractor]]]_m.012.h5'\n",
            "'c_[[[bbicycle, bbus, btrain], [blawn_mower, btank, btractor]]]_m.013.h5'\n",
            "'c_[[[bbicycle, bbus, btrain], [blawn_mower, btank, btractor]]]_m.014.h5'\n",
            "'c_[[[bbicycle, bbus, btrain], [blawn_mower, btank, btractor]]]_m.019.h5'\n",
            "'c_[[[bbicycle, bbus, btrain], [brocket, bstreetcar, btank]]]_m.001.h5'\n",
            "'c_[[[bbicycle, bbus, btrain], [brocket, bstreetcar, btank]]]_m.004.h5'\n",
            "'c_[[[bbicycle, bbus, btrain], [brocket, bstreetcar, btank]]]_m.006.h5'\n",
            "'c_[[[bbicycle, bbus, btrain], [brocket, bstreetcar, btank]]]_m.011.h5'\n",
            "'c_[[[bbicycle, bbus, btrain], [brocket, bstreetcar, btank]]]_m.012.h5'\n",
            "'c_[[[bbicycle, bbus, btrain], [brocket, bstreetcar, btank]]]_m.018.h5'\n",
            "'c_[[[bbicycle, bbus, btrain], [brocket, bstreetcar, btractor]]]_m.001.h5'\n",
            "'c_[[[bbicycle, bbus, btrain], [brocket, bstreetcar, btractor]]]_m.006.h5'\n",
            "'c_[[[bbicycle, bbus, btrain], [brocket, bstreetcar, btractor]]]_m.010.h5'\n",
            "'c_[[[bbicycle, bbus, btrain], [brocket, bstreetcar, btractor]]]_m.011.h5'\n",
            "'c_[[[bbicycle, bbus, btrain], [brocket, bstreetcar, btractor]]]_m.014.h5'\n",
            "'c_[[[bbicycle, bbus, btrain], [brocket, bstreetcar, btractor]]]_m.015.h5'\n",
            "'c_[[[bbicycle, bbus, btrain], [brocket, bstreetcar, btractor]]]_m.020.h5'\n",
            "'c_[[[bbicycle, bbus, btrain], [brocket, bstreetcar, btractor]]]_m.022.h5'\n",
            "'c_[[[bbicycle, bbus, btrain], [brocket, btank, btractor]]]_m.001.h5'\n",
            "'c_[[[bbicycle, bbus, btrain], [brocket, btank, btractor]]]_m.006.h5'\n",
            "'c_[[[bbicycle, bbus, btrain], [brocket, btank, btractor]]]_m.010.h5'\n",
            "'c_[[[bbicycle, bbus, btrain], [brocket, btank, btractor]]]_m.013.h5'\n",
            "'c_[[[bbicycle, bbus, btrain], [brocket, btank, btractor]]]_m.014.h5'\n",
            "'c_[[[bbicycle, bbus, btrain], [brocket, btank, btractor]]]_m.017.h5'\n",
            "'c_[[[bbicycle, bbus, btrain], [brocket, btank, btractor]]]_m.020.h5'\n",
            "'c_[[[bbicycle, bbus, btrain], [brocket, btank, btractor]]]_m.023.h5'\n",
            "'c_[[[bbicycle, bbus, btrain], [brocket, btank, btractor]]]_m.024.h5'\n",
            "'c_[[[bbicycle, bbus, btrain], [bstreetcar, brocket, blawn_mower]]]_m.001.h5'\n",
            "'c_[[[bbicycle, bbus, btrain], [bstreetcar, brocket, blawn_mower]]]_m.007.h5'\n",
            "'c_[[[bbicycle, bbus, btrain], [bstreetcar, brocket, blawn_mower]]]_m.008.h5'\n",
            "'c_[[[bbicycle, bbus, btrain], [bstreetcar, brocket, blawn_mower]]]_m.009.h5'\n",
            "'c_[[[bbicycle, bbus, btrain], [bstreetcar, brocket, blawn_mower]]]_m.016.h5'\n",
            "'c_[[[bbicycle, bmotorcycle, bpickup_truck], [blawn_mower, brocket, bstreetcar]]]_m.001.h5'\n",
            "'c_[[[bbicycle, bmotorcycle, bpickup_truck], [blawn_mower, brocket, bstreetcar]]]_m.007.h5'\n",
            "'c_[[[bbicycle, bmotorcycle, bpickup_truck], [blawn_mower, brocket, bstreetcar]]]_m.009.h5'\n",
            "'c_[[[bbicycle, bmotorcycle, bpickup_truck], [blawn_mower, brocket, bstreetcar]]]_m.010.h5'\n",
            "'c_[[[bbicycle, bmotorcycle, bpickup_truck], [blawn_mower, brocket, bstreetcar]]]_m.011.h5'\n",
            "'c_[[[bbicycle, bmotorcycle, bpickup_truck], [blawn_mower, brocket, bstreetcar]]]_m.013.h5'\n",
            "'c_[[[bbicycle, bmotorcycle, bpickup_truck], [blawn_mower, brocket, bstreetcar]]]_m.021.h5'\n",
            "'c_[[[bbicycle, bmotorcycle, bpickup_truck], [blawn_mower, brocket, btank]]]_m.001.h5'\n",
            "'c_[[[bbicycle, bmotorcycle, bpickup_truck], [blawn_mower, brocket, btank]]]_m.002.h5'\n",
            "'c_[[[bbicycle, bmotorcycle, bpickup_truck], [blawn_mower, brocket, btank]]]_m.006.h5'\n",
            "'c_[[[bbicycle, bmotorcycle, bpickup_truck], [blawn_mower, brocket, btank]]]_m.010.h5'\n",
            "'c_[[[bbicycle, bmotorcycle, bpickup_truck], [blawn_mower, brocket, btank]]]_m.015.h5'\n",
            "'c_[[[bbicycle, bmotorcycle, bpickup_truck], [blawn_mower, brocket, btank]]]_m.016.h5'\n",
            "'c_[[[bbicycle, bmotorcycle, bpickup_truck], [blawn_mower, brocket, btank]]]_m.018.h5'\n",
            "'c_[[[bbicycle, bmotorcycle, bpickup_truck], [blawn_mower, brocket, btank]]]_m.019.h5'\n",
            "'c_[[[bbicycle, bmotorcycle, bpickup_truck], [blawn_mower, brocket, btractor]]]_m.001.h5'\n",
            "'c_[[[bbicycle, bmotorcycle, bpickup_truck], [blawn_mower, brocket, btractor]]]_m.002.h5'\n",
            "'c_[[[bbicycle, bmotorcycle, bpickup_truck], [blawn_mower, brocket, btractor]]]_m.010.h5'\n",
            "'c_[[[bbicycle, bmotorcycle, bpickup_truck], [blawn_mower, brocket, btractor]]]_m.012.h5'\n",
            "'c_[[[bbicycle, bmotorcycle, bpickup_truck], [blawn_mower, brocket, btractor]]]_m.016.h5'\n",
            "'c_[[[bbicycle, bmotorcycle, bpickup_truck], [blawn_mower, bstreetcar, btank]]]_m.001.h5'\n",
            "'c_[[[bbicycle, bmotorcycle, bpickup_truck], [blawn_mower, bstreetcar, btank]]]_m.002.h5'\n",
            "'c_[[[bbicycle, bmotorcycle, bpickup_truck], [blawn_mower, bstreetcar, btank]]]_m.007.h5'\n",
            "'c_[[[bbicycle, bmotorcycle, bpickup_truck], [blawn_mower, bstreetcar, btank]]]_m.009.h5'\n",
            "'c_[[[bbicycle, bmotorcycle, bpickup_truck], [blawn_mower, bstreetcar, btank]]]_m.010.h5'\n",
            "'c_[[[bbicycle, bmotorcycle, bpickup_truck], [blawn_mower, bstreetcar, btank]]]_m.011.h5'\n",
            "'c_[[[bbicycle, bmotorcycle, bpickup_truck], [blawn_mower, bstreetcar, btractor]]]_m.001.h5'\n",
            "'c_[[[bbicycle, bmotorcycle, bpickup_truck], [blawn_mower, bstreetcar, btractor]]]_m.008.h5'\n",
            "'c_[[[bbicycle, bmotorcycle, bpickup_truck], [blawn_mower, bstreetcar, btractor]]]_m.009.h5'\n",
            "'c_[[[bbicycle, bmotorcycle, bpickup_truck], [blawn_mower, bstreetcar, btractor]]]_m.012.h5'\n",
            "'c_[[[bbicycle, bmotorcycle, bpickup_truck], [blawn_mower, bstreetcar, btractor]]]_m.013.h5'\n",
            "'c_[[[bbicycle, bmotorcycle, bpickup_truck], [blawn_mower, bstreetcar, btractor]]]_m.014.h5'\n",
            "'c_[[[bbicycle, bmotorcycle, bpickup_truck], [blawn_mower, bstreetcar, btractor]]]_m.018.h5'\n",
            "'c_[[[bbicycle, bmotorcycle, bpickup_truck], [blawn_mower, bstreetcar, btractor]]]_m.023.h5'\n",
            "'c_[[[bbicycle, bmotorcycle, bpickup_truck], [blawn_mower, btank, btractor]]]_m.001.h5'\n",
            "'c_[[[bbicycle, bmotorcycle, bpickup_truck], [blawn_mower, btank, btractor]]]_m.010.h5'\n",
            "'c_[[[bbicycle, bmotorcycle, bpickup_truck], [blawn_mower, btank, btractor]]]_m.011.h5'\n",
            "'c_[[[bbicycle, bmotorcycle, bpickup_truck], [blawn_mower, btank, btractor]]]_m.016.h5'\n",
            "'c_[[[bbicycle, bmotorcycle, bpickup_truck], [blawn_mower, btank, btractor]]]_m.017.h5'\n",
            "'c_[[[bbicycle, bmotorcycle, bpickup_truck], [blawn_mower, btank, btractor]]]_m.019.h5'\n",
            "'c_[[[bbicycle, bmotorcycle, bpickup_truck], [blawn_mower, btank, btractor]]]_m.023.h5'\n",
            "'c_[[[bbicycle, bmotorcycle, bpickup_truck], [brocket, bstreetcar, btank]]]_m.001.h5'\n",
            "'c_[[[bbicycle, bmotorcycle, bpickup_truck], [brocket, bstreetcar, btank]]]_m.008.h5'\n",
            "'c_[[[bbicycle, bmotorcycle, bpickup_truck], [brocket, bstreetcar, btank]]]_m.009.h5'\n",
            "'c_[[[bbicycle, bmotorcycle, bpickup_truck], [brocket, bstreetcar, btank]]]_m.012.h5'\n",
            "'c_[[[bbicycle, bmotorcycle, bpickup_truck], [brocket, bstreetcar, btractor]]]_m.001.h5'\n",
            "'c_[[[bbicycle, bmotorcycle, bpickup_truck], [brocket, bstreetcar, btractor]]]_m.006.h5'\n",
            "'c_[[[bbicycle, bmotorcycle, bpickup_truck], [brocket, bstreetcar, btractor]]]_m.007.h5'\n",
            "'c_[[[bbicycle, bmotorcycle, bpickup_truck], [brocket, bstreetcar, btractor]]]_m.008.h5'\n",
            "'c_[[[bbicycle, bmotorcycle, bpickup_truck], [brocket, bstreetcar, btractor]]]_m.009.h5'\n",
            "'c_[[[bbicycle, bmotorcycle, bpickup_truck], [brocket, btank, btractor]]]_m.001.h5'\n",
            "'c_[[[bbicycle, bmotorcycle, bpickup_truck], [brocket, btank, btractor]]]_m.008.h5'\n",
            "'c_[[[bbicycle, bmotorcycle, bpickup_truck], [brocket, btank, btractor]]]_m.009.h5'\n",
            "'c_[[[bbicycle, bmotorcycle, bpickup_truck], [brocket, btank, btractor]]]_m.010.h5'\n",
            "'c_[[[bbicycle, bmotorcycle, bpickup_truck], [brocket, btank, btractor]]]_m.011.h5'\n",
            "'c_[[[bbicycle, bmotorcycle, bpickup_truck], [brocket, btank, btractor]]]_m.012.h5'\n",
            "'c_[[[bbicycle, bmotorcycle, bpickup_truck], [bstreetcar, brocket, blawn_mower]]]_m.001.h5'\n",
            "'c_[[[bbicycle, bmotorcycle, bpickup_truck], [bstreetcar, brocket, blawn_mower]]]_m.002.h5'\n",
            "'c_[[[bbicycle, bmotorcycle, bpickup_truck], [bstreetcar, brocket, blawn_mower]]]_m.003.h5'\n",
            "'c_[[[bbicycle, bmotorcycle, bpickup_truck], [bstreetcar, brocket, blawn_mower]]]_m.004.h5'\n",
            "'c_[[[bbicycle, bmotorcycle, bpickup_truck], [bstreetcar, brocket, blawn_mower]]]_m.008.h5'\n",
            "'c_[[[bbicycle, bmotorcycle, bpickup_truck], [bstreetcar, brocket, blawn_mower]]]_m.009.h5'\n",
            "'c_[[[bbicycle, bmotorcycle, bpickup_truck], [bstreetcar, brocket, blawn_mower]]]_m.011.h5'\n",
            "'c_[[[bbicycle, bmotorcycle, bpickup_truck], [bstreetcar, brocket, blawn_mower]]]_m.013.h5'\n",
            "'c_[[[bbicycle, bmotorcycle, bpickup_truck], [bstreetcar, brocket, blawn_mower]]]_m.015.h5'\n",
            "'c_[[[bbicycle, bmotorcycle, bpickup_truck], [bstreetcar, brocket, blawn_mower]]]_m.016.h5'\n",
            "'c_[[[bbicycle, bmotorcycle, btrain], [blawn_mower, brocket, bstreetcar]]]_m.001.h5'\n",
            "'c_[[[bbicycle, bmotorcycle, btrain], [blawn_mower, brocket, bstreetcar]]]_m.007.h5'\n",
            "'c_[[[bbicycle, bmotorcycle, btrain], [blawn_mower, brocket, bstreetcar]]]_m.008.h5'\n",
            "'c_[[[bbicycle, bmotorcycle, btrain], [blawn_mower, brocket, bstreetcar]]]_m.009.h5'\n",
            "'c_[[[bbicycle, bmotorcycle, btrain], [blawn_mower, brocket, btank]]]_m.001.h5'\n",
            "'c_[[[bbicycle, bmotorcycle, btrain], [blawn_mower, brocket, btank]]]_m.002.h5'\n",
            "'c_[[[bbicycle, bmotorcycle, btrain], [blawn_mower, brocket, btank]]]_m.008.h5'\n",
            "'c_[[[bbicycle, bmotorcycle, btrain], [blawn_mower, brocket, btank]]]_m.010.h5'\n",
            "'c_[[[bbicycle, bmotorcycle, btrain], [blawn_mower, brocket, btank]]]_m.011.h5'\n",
            "'c_[[[bbicycle, bmotorcycle, btrain], [blawn_mower, brocket, btractor]]]_m.001.h5'\n",
            "'c_[[[bbicycle, bmotorcycle, btrain], [blawn_mower, brocket, btractor]]]_m.005.h5'\n",
            "'c_[[[bbicycle, bmotorcycle, btrain], [blawn_mower, brocket, btractor]]]_m.008.h5'\n",
            "'c_[[[bbicycle, bmotorcycle, btrain], [blawn_mower, brocket, btractor]]]_m.009.h5'\n",
            "'c_[[[bbicycle, bmotorcycle, btrain], [blawn_mower, brocket, btractor]]]_m.012.h5'\n",
            "'c_[[[bbicycle, bmotorcycle, btrain], [blawn_mower, brocket, btractor]]]_m.017.h5'\n",
            "'c_[[[bbicycle, bmotorcycle, btrain], [blawn_mower, brocket, btractor]]]_m.020.h5'\n",
            "'c_[[[bbicycle, bmotorcycle, btrain], [blawn_mower, bstreetcar, btank]]]_m.001.h5'\n",
            "'c_[[[bbicycle, bmotorcycle, btrain], [blawn_mower, bstreetcar, btank]]]_m.004.h5'\n",
            "'c_[[[bbicycle, bmotorcycle, btrain], [blawn_mower, bstreetcar, btank]]]_m.006.h5'\n",
            "'c_[[[bbicycle, bmotorcycle, btrain], [blawn_mower, bstreetcar, btank]]]_m.007.h5'\n",
            "'c_[[[bbicycle, bmotorcycle, btrain], [blawn_mower, bstreetcar, btank]]]_m.008.h5'\n",
            "'c_[[[bbicycle, bmotorcycle, btrain], [blawn_mower, bstreetcar, btank]]]_m.009.h5'\n",
            "'c_[[[bbicycle, bmotorcycle, btrain], [blawn_mower, bstreetcar, btractor]]]_m.001.h5'\n",
            "'c_[[[bbicycle, bmotorcycle, btrain], [blawn_mower, bstreetcar, btractor]]]_m.004.h5'\n",
            "'c_[[[bbicycle, bmotorcycle, btrain], [blawn_mower, bstreetcar, btractor]]]_m.009.h5'\n",
            "'c_[[[bbicycle, bmotorcycle, btrain], [blawn_mower, bstreetcar, btractor]]]_m.011.h5'\n",
            "'c_[[[bbicycle, bmotorcycle, btrain], [blawn_mower, bstreetcar, btractor]]]_m.012.h5'\n",
            "'c_[[[bbicycle, bmotorcycle, btrain], [blawn_mower, bstreetcar, btractor]]]_m.013.h5'\n",
            "'c_[[[bbicycle, bmotorcycle, btrain], [blawn_mower, bstreetcar, btractor]]]_m.019.h5'\n",
            "'c_[[[bbicycle, bmotorcycle, btrain], [blawn_mower, btank, btractor]]]_m.001.h5'\n",
            "'c_[[[bbicycle, bmotorcycle, btrain], [blawn_mower, btank, btractor]]]_m.008.h5'\n",
            "'c_[[[bbicycle, bmotorcycle, btrain], [blawn_mower, btank, btractor]]]_m.009.h5'\n",
            "'c_[[[bbicycle, bmotorcycle, btrain], [blawn_mower, btank, btractor]]]_m.011.h5'\n",
            "'c_[[[bbicycle, bmotorcycle, btrain], [blawn_mower, btank, btractor]]]_m.012.h5'\n",
            "'c_[[[bbicycle, bmotorcycle, btrain], [blawn_mower, btank, btractor]]]_m.014.h5'\n",
            "'c_[[[bbicycle, bmotorcycle, btrain], [blawn_mower, btank, btractor]]]_m.022.h5'\n",
            "'c_[[[bbicycle, bmotorcycle, btrain], [blawn_mower, btank, btractor]]]_m.023.h5'\n",
            "'c_[[[bbicycle, bmotorcycle, btrain], [blawn_mower, btank, btractor]]]_m.024.h5'\n",
            "'c_[[[bbicycle, bmotorcycle, btrain], [brocket, bstreetcar, btank]]]_m.001.h5'\n",
            "'c_[[[bbicycle, bmotorcycle, btrain], [brocket, bstreetcar, btank]]]_m.006.h5'\n",
            "'c_[[[bbicycle, bmotorcycle, btrain], [brocket, bstreetcar, btank]]]_m.007.h5'\n",
            "'c_[[[bbicycle, bmotorcycle, btrain], [brocket, bstreetcar, btractor]]]_m.001.h5'\n",
            "'c_[[[bbicycle, bmotorcycle, btrain], [brocket, bstreetcar, btractor]]]_m.008.h5'\n",
            "'c_[[[bbicycle, bmotorcycle, btrain], [brocket, bstreetcar, btractor]]]_m.009.h5'\n",
            "'c_[[[bbicycle, bmotorcycle, btrain], [brocket, bstreetcar, btractor]]]_m.010.h5'\n",
            "'c_[[[bbicycle, bmotorcycle, btrain], [brocket, btank, btractor]]]_m.001.h5'\n",
            "'c_[[[bbicycle, bmotorcycle, btrain], [brocket, btank, btractor]]]_m.004.h5'\n",
            "'c_[[[bbicycle, bmotorcycle, btrain], [brocket, btank, btractor]]]_m.007.h5'\n",
            "'c_[[[bbicycle, bmotorcycle, btrain], [brocket, btank, btractor]]]_m.009.h5'\n",
            "'c_[[[bbicycle, bmotorcycle, btrain], [brocket, btank, btractor]]]_m.011.h5'\n",
            "'c_[[[bbicycle, bmotorcycle, btrain], [bstreetcar, brocket, blawn_mower]]]_m.001.h5'\n",
            "'c_[[[bbicycle, bmotorcycle, btrain], [bstreetcar, brocket, blawn_mower]]]_m.002.h5'\n",
            "'c_[[[bbicycle, bmotorcycle, btrain], [bstreetcar, brocket, blawn_mower]]]_m.003.h5'\n",
            "'c_[[[bbicycle, bmotorcycle, btrain], [bstreetcar, brocket, blawn_mower]]]_m.007.h5'\n",
            "'c_[[[bbicycle, bmotorcycle, btrain], [bstreetcar, brocket, blawn_mower]]]_m.008.h5'\n",
            "'c_[[[bbicycle, bmotorcycle, btrain], [bstreetcar, brocket, blawn_mower]]]_m.010.h5'\n",
            "'c_[[[bbicycle, bmotorcycle, btrain], [bstreetcar, brocket, blawn_mower]]]_m.011.h5'\n",
            "'c_[[[bbicycle, bmotorcycle, btrain], [bstreetcar, brocket, blawn_mower]]]_m.014.h5'\n",
            "'c_[[[bbicycle, bpickup_truck, btrain], [blawn_mower, brocket, bstreetcar]]]_m.001.h5'\n",
            "'c_[[[bbicycle, bpickup_truck, btrain], [blawn_mower, brocket, bstreetcar]]]_m.002.h5'\n",
            "'c_[[[bbicycle, bpickup_truck, btrain], [blawn_mower, brocket, bstreetcar]]]_m.007.h5'\n",
            "'c_[[[bbicycle, bpickup_truck, btrain], [blawn_mower, brocket, bstreetcar]]]_m.008.h5'\n",
            "'c_[[[bbicycle, bpickup_truck, btrain], [blawn_mower, brocket, bstreetcar]]]_m.009.h5'\n",
            "'c_[[[bbicycle, bpickup_truck, btrain], [blawn_mower, brocket, btank]]]_m.001.h5'\n",
            "'c_[[[bbicycle, bpickup_truck, btrain], [blawn_mower, brocket, btank]]]_m.005.h5'\n",
            "'c_[[[bbicycle, bpickup_truck, btrain], [blawn_mower, brocket, btank]]]_m.009.h5'\n",
            "'c_[[[bbicycle, bpickup_truck, btrain], [blawn_mower, brocket, btank]]]_m.014.h5'\n",
            "'c_[[[bbicycle, bpickup_truck, btrain], [blawn_mower, brocket, btank]]]_m.015.h5'\n",
            "'c_[[[bbicycle, bpickup_truck, btrain], [blawn_mower, brocket, btank]]]_m.016.h5'\n",
            "'c_[[[bbicycle, bpickup_truck, btrain], [blawn_mower, brocket, btank]]]_m.019.h5'\n",
            "'c_[[[bbicycle, bpickup_truck, btrain], [blawn_mower, brocket, btractor]]]_m.001.h5'\n",
            "'c_[[[bbicycle, bpickup_truck, btrain], [blawn_mower, brocket, btractor]]]_m.002.h5'\n",
            "'c_[[[bbicycle, bpickup_truck, btrain], [blawn_mower, brocket, btractor]]]_m.004.h5'\n",
            "'c_[[[bbicycle, bpickup_truck, btrain], [blawn_mower, brocket, btractor]]]_m.006.h5'\n",
            "'c_[[[bbicycle, bpickup_truck, btrain], [blawn_mower, brocket, btractor]]]_m.008.h5'\n",
            "'c_[[[bbicycle, bpickup_truck, btrain], [blawn_mower, brocket, btractor]]]_m.009.h5'\n",
            "'c_[[[bbicycle, bpickup_truck, btrain], [blawn_mower, brocket, btractor]]]_m.010.h5'\n",
            "'c_[[[bbicycle, bpickup_truck, btrain], [blawn_mower, bstreetcar, btank]]]_m.001.h5'\n",
            "'c_[[[bbicycle, bpickup_truck, btrain], [blawn_mower, bstreetcar, btank]]]_m.004.h5'\n",
            "'c_[[[bbicycle, bpickup_truck, btrain], [blawn_mower, bstreetcar, btank]]]_m.006.h5'\n",
            "'c_[[[bbicycle, bpickup_truck, btrain], [blawn_mower, bstreetcar, btank]]]_m.007.h5'\n",
            "'c_[[[bbicycle, bpickup_truck, btrain], [blawn_mower, bstreetcar, btank]]]_m.008.h5'\n",
            "'c_[[[bbicycle, bpickup_truck, btrain], [blawn_mower, bstreetcar, btank]]]_m.023.h5'\n",
            "'c_[[[bbicycle, bpickup_truck, btrain], [blawn_mower, bstreetcar, btractor]]]_m.001.h5'\n",
            "'c_[[[bbicycle, bpickup_truck, btrain], [blawn_mower, bstreetcar, btractor]]]_m.002.h5'\n",
            "'c_[[[bbicycle, bpickup_truck, btrain], [blawn_mower, bstreetcar, btractor]]]_m.004.h5'\n",
            "'c_[[[bbicycle, bpickup_truck, btrain], [blawn_mower, bstreetcar, btractor]]]_m.010.h5'\n",
            "'c_[[[bbicycle, bpickup_truck, btrain], [blawn_mower, bstreetcar, btractor]]]_m.011.h5'\n",
            "'c_[[[bbicycle, bpickup_truck, btrain], [blawn_mower, bstreetcar, btractor]]]_m.014.h5'\n",
            "'c_[[[bbicycle, bpickup_truck, btrain], [blawn_mower, bstreetcar, btractor]]]_m.015.h5'\n",
            "'c_[[[bbicycle, bpickup_truck, btrain], [blawn_mower, bstreetcar, btractor]]]_m.016.h5'\n",
            "'c_[[[bbicycle, bpickup_truck, btrain], [blawn_mower, btank, btractor]]]_m.001.h5'\n",
            "'c_[[[bbicycle, bpickup_truck, btrain], [blawn_mower, btank, btractor]]]_m.003.h5'\n",
            "'c_[[[bbicycle, bpickup_truck, btrain], [blawn_mower, btank, btractor]]]_m.005.h5'\n",
            "'c_[[[bbicycle, bpickup_truck, btrain], [blawn_mower, btank, btractor]]]_m.007.h5'\n",
            "'c_[[[bbicycle, bpickup_truck, btrain], [blawn_mower, btank, btractor]]]_m.008.h5'\n",
            "'c_[[[bbicycle, bpickup_truck, btrain], [blawn_mower, btank, btractor]]]_m.009.h5'\n",
            "'c_[[[bbicycle, bpickup_truck, btrain], [blawn_mower, btank, btractor]]]_m.012.h5'\n",
            "'c_[[[bbicycle, bpickup_truck, btrain], [blawn_mower, btank, btractor]]]_m.013.h5'\n",
            "'c_[[[bbicycle, bpickup_truck, btrain], [blawn_mower, btank, btractor]]]_m.014.h5'\n",
            "'c_[[[bbicycle, bpickup_truck, btrain], [blawn_mower, btank, btractor]]]_m.015.h5'\n",
            "'c_[[[bbicycle, bpickup_truck, btrain], [blawn_mower, btank, btractor]]]_m.017.h5'\n",
            "'c_[[[bbicycle, bpickup_truck, btrain], [brocket, bstreetcar, btank]]]_m.001.h5'\n",
            "'c_[[[bbicycle, bpickup_truck, btrain], [brocket, bstreetcar, btank]]]_m.006.h5'\n",
            "'c_[[[bbicycle, bpickup_truck, btrain], [brocket, bstreetcar, btank]]]_m.007.h5'\n",
            "'c_[[[bbicycle, bpickup_truck, btrain], [brocket, bstreetcar, btank]]]_m.008.h5'\n",
            "'c_[[[bbicycle, bpickup_truck, btrain], [brocket, bstreetcar, btank]]]_m.009.h5'\n",
            "'c_[[[bbicycle, bpickup_truck, btrain], [brocket, bstreetcar, btank]]]_m.010.h5'\n",
            "'c_[[[bbicycle, bpickup_truck, btrain], [brocket, bstreetcar, btank]]]_m.014.h5'\n",
            "'c_[[[bbicycle, bpickup_truck, btrain], [brocket, bstreetcar, btank]]]_m.016.h5'\n",
            "'c_[[[bbicycle, bpickup_truck, btrain], [brocket, bstreetcar, btank]]]_m.017.h5'\n",
            "'c_[[[bbicycle, bpickup_truck, btrain], [brocket, bstreetcar, btank]]]_m.020.h5'\n",
            "'c_[[[bbicycle, bpickup_truck, btrain], [brocket, bstreetcar, btank]]]_m.021.h5'\n",
            "'c_[[[bbicycle, bpickup_truck, btrain], [brocket, bstreetcar, btank]]]_m.023.h5'\n",
            "'c_[[[bbicycle, bpickup_truck, btrain], [brocket, bstreetcar, btractor]]]_m.001.h5'\n",
            "'c_[[[bbicycle, bpickup_truck, btrain], [brocket, bstreetcar, btractor]]]_m.009.h5'\n",
            "'c_[[[bbicycle, bpickup_truck, btrain], [brocket, bstreetcar, btractor]]]_m.013.h5'\n",
            "'c_[[[bbicycle, bpickup_truck, btrain], [brocket, bstreetcar, btractor]]]_m.015.h5'\n",
            "'c_[[[bbicycle, bpickup_truck, btrain], [brocket, bstreetcar, btractor]]]_m.017.h5'\n",
            "'c_[[[bbicycle, bpickup_truck, btrain], [brocket, bstreetcar, btractor]]]_m.018.h5'\n",
            "'c_[[[bbicycle, bpickup_truck, btrain], [brocket, btank, btractor]]]_m.001.h5'\n",
            "'c_[[[bbicycle, bpickup_truck, btrain], [brocket, btank, btractor]]]_m.002.h5'\n",
            "'c_[[[bbicycle, bpickup_truck, btrain], [brocket, btank, btractor]]]_m.004.h5'\n",
            "'c_[[[bbicycle, bpickup_truck, btrain], [brocket, btank, btractor]]]_m.006.h5'\n",
            "'c_[[[bbicycle, bpickup_truck, btrain], [brocket, btank, btractor]]]_m.007.h5'\n",
            "'c_[[[bbicycle, bpickup_truck, btrain], [brocket, btank, btractor]]]_m.008.h5'\n",
            "'c_[[[bbicycle, bpickup_truck, btrain], [brocket, btank, btractor]]]_m.009.h5'\n",
            "'c_[[[bbicycle, bpickup_truck, btrain], [brocket, btank, btractor]]]_m.010.h5'\n",
            "'c_[[[bbicycle, bpickup_truck, btrain], [brocket, btank, btractor]]]_m.014.h5'\n",
            "'c_[[[bbicycle, bpickup_truck, btrain], [brocket, btank, btractor]]]_m.015.h5'\n",
            "'c_[[[bbicycle, bpickup_truck, btrain], [brocket, btank, btractor]]]_m.016.h5'\n",
            "'c_[[[bbicycle, bpickup_truck, btrain], [brocket, btank, btractor]]]_m.017.h5'\n",
            "'c_[[[bbicycle, bpickup_truck, btrain], [brocket, btank, btractor]]]_m.019.h5'\n",
            "'c_[[[bbicycle, bpickup_truck, btrain], [bstreetcar, brocket, blawn_mower]]]_m.001.h5'\n",
            "'c_[[[bbicycle, bpickup_truck, btrain], [bstreetcar, brocket, blawn_mower]]]_m.004.h5'\n",
            "'c_[[[bbicycle, bpickup_truck, btrain], [bstreetcar, brocket, blawn_mower]]]_m.005.h5'\n",
            "'c_[[[bbicycle, bpickup_truck, btrain], [bstreetcar, brocket, blawn_mower]]]_m.006.h5'\n",
            "'c_[[[bbicycle, bpickup_truck, btrain], [bstreetcar, brocket, blawn_mower]]]_m.007.h5'\n",
            "'c_[[[bbicycle, bpickup_truck, btrain], [bstreetcar, brocket, blawn_mower]]]_m.008.h5'\n",
            "'c_[[[bbicycle, bpickup_truck, btrain], [bstreetcar, brocket, blawn_mower]]]_m.009.h5'\n",
            "'c_[[[bbicycle, bpickup_truck, btrain], [bstreetcar, brocket, blawn_mower]]]_m.020.h5'\n",
            "'c_[[[bbus, bmotorcycle, bpickup_truck], [blawn_mower, brocket, bstreetcar]]]_m.001.h5'\n",
            "'c_[[[bbus, bmotorcycle, bpickup_truck], [blawn_mower, brocket, bstreetcar]]]_m.021.h5'\n",
            "'c_[[[bbus, bmotorcycle, bpickup_truck], [blawn_mower, brocket, bstreetcar]]]_m.024.h5'\n",
            "'c_[[[bbus, bmotorcycle, bpickup_truck], [blawn_mower, brocket, btank]]]_m.001.h5'\n",
            "'c_[[[bbus, bmotorcycle, bpickup_truck], [blawn_mower, brocket, btractor]]]_m.001.h5'\n",
            "'c_[[[bbus, bmotorcycle, bpickup_truck], [blawn_mower, bstreetcar, btank]]]_m.001.h5'\n",
            "'c_[[[bbus, bmotorcycle, bpickup_truck], [blawn_mower, bstreetcar, btank]]]_m.002.h5'\n",
            "'c_[[[bbus, bmotorcycle, bpickup_truck], [blawn_mower, bstreetcar, btank]]]_m.010.h5'\n",
            "'c_[[[bbus, bmotorcycle, bpickup_truck], [blawn_mower, bstreetcar, btank]]]_m.011.h5'\n",
            "'c_[[[bbus, bmotorcycle, bpickup_truck], [blawn_mower, bstreetcar, btank]]]_m.012.h5'\n",
            "'c_[[[bbus, bmotorcycle, bpickup_truck], [blawn_mower, bstreetcar, btank]]]_m.013.h5'\n",
            "'c_[[[bbus, bmotorcycle, bpickup_truck], [blawn_mower, bstreetcar, btank]]]_m.017.h5'\n",
            "'c_[[[bbus, bmotorcycle, bpickup_truck], [blawn_mower, bstreetcar, btank]]]_m.019.h5'\n",
            "'c_[[[bbus, bmotorcycle, bpickup_truck], [blawn_mower, bstreetcar, btank]]]_m.023.h5'\n",
            "'c_[[[bbus, bmotorcycle, bpickup_truck], [blawn_mower, bstreetcar, btractor]]]_m.001.h5'\n",
            "'c_[[[bbus, bmotorcycle, bpickup_truck], [blawn_mower, bstreetcar, btractor]]]_m.009.h5'\n",
            "'c_[[[bbus, bmotorcycle, bpickup_truck], [blawn_mower, bstreetcar, btractor]]]_m.010.h5'\n",
            "'c_[[[bbus, bmotorcycle, bpickup_truck], [blawn_mower, bstreetcar, btractor]]]_m.012.h5'\n",
            "'c_[[[bbus, bmotorcycle, bpickup_truck], [blawn_mower, bstreetcar, btractor]]]_m.013.h5'\n",
            "'c_[[[bbus, bmotorcycle, bpickup_truck], [blawn_mower, bstreetcar, btractor]]]_m.020.h5'\n",
            "'c_[[[bbus, bmotorcycle, bpickup_truck], [blawn_mower, btank, btractor]]]_m.001.h5'\n",
            "'c_[[[bbus, bmotorcycle, bpickup_truck], [blawn_mower, btank, btractor]]]_m.002.h5'\n",
            "'c_[[[bbus, bmotorcycle, bpickup_truck], [blawn_mower, btank, btractor]]]_m.014.h5'\n",
            "'c_[[[bbus, bmotorcycle, bpickup_truck], [blawn_mower, btank, btractor]]]_m.017.h5'\n",
            "'c_[[[bbus, bmotorcycle, bpickup_truck], [blawn_mower, btank, btractor]]]_m.018.h5'\n",
            "'c_[[[bbus, bmotorcycle, bpickup_truck], [blawn_mower, btank, btractor]]]_m.019.h5'\n",
            "'c_[[[bbus, bmotorcycle, bpickup_truck], [blawn_mower, btank, btractor]]]_m.020.h5'\n",
            "'c_[[[bbus, bmotorcycle, bpickup_truck], [brocket, bstreetcar, btank]]]_m.001.h5'\n",
            "'c_[[[bbus, bmotorcycle, bpickup_truck], [brocket, bstreetcar, btank]]]_m.002.h5'\n",
            "'c_[[[bbus, bmotorcycle, bpickup_truck], [brocket, bstreetcar, btractor]]]_m.001.h5'\n",
            "'c_[[[bbus, bmotorcycle, bpickup_truck], [brocket, bstreetcar, btractor]]]_m.024.h5'\n",
            "'c_[[[bbus, bmotorcycle, bpickup_truck], [brocket, btank, btractor]]]_m.001.h5'\n",
            "'c_[[[bbus, bmotorcycle, bpickup_truck], [bstreetcar, brocket, blawn_mower]]]_m.001.h5'\n",
            "'c_[[[bbus, bmotorcycle, bpickup_truck], [bstreetcar, brocket, blawn_mower]]]_m.003.h5'\n",
            "'c_[[[bbus, bmotorcycle, bpickup_truck], [bstreetcar, brocket, blawn_mower]]]_m.004.h5'\n",
            "'c_[[[bbus, bmotorcycle, bpickup_truck], [bstreetcar, brocket, blawn_mower]]]_m.016.h5'\n",
            "'c_[[[bbus, bmotorcycle, bpickup_truck], [bstreetcar, brocket, blawn_mower]]]_m.017.h5'\n",
            "'c_[[[bbus, bmotorcycle, bpickup_truck], [bstreetcar, brocket, blawn_mower]]]_m.018.h5'\n",
            "'c_[[[bbus, bmotorcycle, bpickup_truck], [bstreetcar, brocket, blawn_mower]]]_m.022.h5'\n",
            "'c_[[[bbus, bmotorcycle, bpickup_truck], [bstreetcar, brocket, blawn_mower]]]_m.024.h5'\n",
            "'c_[[[bbus, bmotorcycle, btrain], [blawn_mower, brocket, bstreetcar]]]_m.001.h5'\n",
            "'c_[[[bbus, bmotorcycle, btrain], [blawn_mower, brocket, bstreetcar]]]_m.002.h5'\n",
            "'c_[[[bbus, bmotorcycle, btrain], [blawn_mower, brocket, btank]]]_m.001.h5'\n",
            "'c_[[[bbus, bmotorcycle, btrain], [blawn_mower, brocket, btractor]]]_m.001.h5'\n",
            "'c_[[[bbus, bmotorcycle, btrain], [blawn_mower, brocket, btractor]]]_m.013.h5'\n",
            "'c_[[[bbus, bmotorcycle, btrain], [blawn_mower, brocket, btractor]]]_m.021.h5'\n",
            "'c_[[[bbus, bmotorcycle, btrain], [blawn_mower, brocket, btractor]]]_m.022.h5'\n",
            "'c_[[[bbus, bmotorcycle, btrain], [blawn_mower, bstreetcar, btank]]]_m.001.h5'\n",
            "'c_[[[bbus, bmotorcycle, btrain], [blawn_mower, bstreetcar, btank]]]_m.005.h5'\n",
            "'c_[[[bbus, bmotorcycle, btrain], [blawn_mower, bstreetcar, btank]]]_m.007.h5'\n",
            "'c_[[[bbus, bmotorcycle, btrain], [blawn_mower, bstreetcar, btank]]]_m.011.h5'\n",
            "'c_[[[bbus, bmotorcycle, btrain], [blawn_mower, bstreetcar, btank]]]_m.020.h5'\n",
            "'c_[[[bbus, bmotorcycle, btrain], [blawn_mower, bstreetcar, btractor]]]_m.001.h5'\n",
            "'c_[[[bbus, bmotorcycle, btrain], [blawn_mower, bstreetcar, btractor]]]_m.007.h5'\n",
            "'c_[[[bbus, bmotorcycle, btrain], [blawn_mower, bstreetcar, btractor]]]_m.008.h5'\n",
            "'c_[[[bbus, bmotorcycle, btrain], [blawn_mower, bstreetcar, btractor]]]_m.009.h5'\n",
            "'c_[[[bbus, bmotorcycle, btrain], [blawn_mower, bstreetcar, btractor]]]_m.010.h5'\n",
            "'c_[[[bbus, bmotorcycle, btrain], [blawn_mower, bstreetcar, btractor]]]_m.013.h5'\n",
            "'c_[[[bbus, bmotorcycle, btrain], [blawn_mower, btank, btractor]]]_m.001.h5'\n",
            "'c_[[[bbus, bmotorcycle, btrain], [blawn_mower, btank, btractor]]]_m.006.h5'\n",
            "'c_[[[bbus, bmotorcycle, btrain], [blawn_mower, btank, btractor]]]_m.010.h5'\n",
            "'c_[[[bbus, bmotorcycle, btrain], [blawn_mower, btank, btractor]]]_m.014.h5'\n",
            "'c_[[[bbus, bmotorcycle, btrain], [blawn_mower, btank, btractor]]]_m.015.h5'\n",
            "'c_[[[bbus, bmotorcycle, btrain], [blawn_mower, btank, btractor]]]_m.016.h5'\n",
            "'c_[[[bbus, bmotorcycle, btrain], [blawn_mower, btank, btractor]]]_m.024.h5'\n",
            "'c_[[[bbus, bmotorcycle, btrain], [brocket, bstreetcar, btank]]]_m.001.h5'\n",
            "'c_[[[bbus, bmotorcycle, btrain], [brocket, bstreetcar, btank]]]_m.004.h5'\n",
            "'c_[[[bbus, bmotorcycle, btrain], [brocket, bstreetcar, btank]]]_m.006.h5'\n",
            "'c_[[[bbus, bmotorcycle, btrain], [brocket, bstreetcar, btank]]]_m.007.h5'\n",
            "'c_[[[bbus, bmotorcycle, btrain], [brocket, bstreetcar, btank]]]_m.008.h5'\n",
            "'c_[[[bbus, bmotorcycle, btrain], [brocket, bstreetcar, btank]]]_m.009.h5'\n",
            "'c_[[[bbus, bmotorcycle, btrain], [brocket, bstreetcar, btank]]]_m.010.h5'\n",
            "'c_[[[bbus, bmotorcycle, btrain], [brocket, bstreetcar, btank]]]_m.013.h5'\n",
            "'c_[[[bbus, bmotorcycle, btrain], [brocket, bstreetcar, btank]]]_m.014.h5'\n",
            "'c_[[[bbus, bmotorcycle, btrain], [brocket, bstreetcar, btank]]]_m.015.h5'\n",
            "'c_[[[bbus, bmotorcycle, btrain], [brocket, bstreetcar, btank]]]_m.016.h5'\n",
            "'c_[[[bbus, bmotorcycle, btrain], [brocket, bstreetcar, btank]]]_m.019.h5'\n",
            "'c_[[[bbus, bmotorcycle, btrain], [brocket, bstreetcar, btractor]]]_m.001.h5'\n",
            "'c_[[[bbus, bmotorcycle, btrain], [brocket, bstreetcar, btractor]]]_m.002.h5'\n",
            "'c_[[[bbus, bmotorcycle, btrain], [brocket, bstreetcar, btractor]]]_m.013.h5'\n",
            "'c_[[[bbus, bmotorcycle, btrain], [brocket, bstreetcar, btractor]]]_m.014.h5'\n",
            "'c_[[[bbus, bmotorcycle, btrain], [brocket, bstreetcar, btractor]]]_m.015.h5'\n",
            "'c_[[[bbus, bmotorcycle, btrain], [brocket, bstreetcar, btractor]]]_m.018.h5'\n",
            "'c_[[[bbus, bmotorcycle, btrain], [brocket, bstreetcar, btractor]]]_m.019.h5'\n",
            "'c_[[[bbus, bmotorcycle, btrain], [brocket, btank, btractor]]]_m.001.h5'\n",
            "'c_[[[bbus, bmotorcycle, btrain], [brocket, btank, btractor]]]_m.002.h5'\n",
            "'c_[[[bbus, bmotorcycle, btrain], [brocket, btank, btractor]]]_m.003.h5'\n",
            "'c_[[[bbus, bmotorcycle, btrain], [brocket, btank, btractor]]]_m.005.h5'\n",
            "'c_[[[bbus, bmotorcycle, btrain], [brocket, btank, btractor]]]_m.006.h5'\n",
            "'c_[[[bbus, bmotorcycle, btrain], [brocket, btank, btractor]]]_m.012.h5'\n",
            "'c_[[[bbus, bmotorcycle, btrain], [brocket, btank, btractor]]]_m.013.h5'\n",
            "'c_[[[bbus, bmotorcycle, btrain], [brocket, btank, btractor]]]_m.014.h5'\n",
            "'c_[[[bbus, bmotorcycle, btrain], [brocket, btank, btractor]]]_m.015.h5'\n",
            "'c_[[[bbus, bmotorcycle, btrain], [brocket, btank, btractor]]]_m.017.h5'\n",
            "'c_[[[bbus, bmotorcycle, btrain], [brocket, btank, btractor]]]_m.018.h5'\n",
            "'c_[[[bbus, bmotorcycle, btrain], [brocket, btank, btractor]]]_m.020.h5'\n",
            "'c_[[[bbus, bmotorcycle, btrain], [bstreetcar, brocket, blawn_mower]]]_m.001.h5'\n",
            "'c_[[[bbus, bmotorcycle, btrain], [bstreetcar, brocket, blawn_mower]]]_m.002.h5'\n",
            "'c_[[[bbus, bmotorcycle, btrain], [bstreetcar, brocket, blawn_mower]]]_m.003.h5'\n",
            "'c_[[[bbus, bmotorcycle, btrain], [bstreetcar, brocket, blawn_mower]]]_m.011.h5'\n",
            "'c_[[[bbus, bmotorcycle, btrain], [bstreetcar, brocket, blawn_mower]]]_m.024.h5'\n",
            "'c_[[[bbus, bpickup_truck, btrain], [blawn_mower, brocket, bstreetcar]]]_m.001.h5'\n",
            "'c_[[[bbus, bpickup_truck, btrain], [blawn_mower, brocket, btank]]]_m.001.h5'\n",
            "'c_[[[bbus, bpickup_truck, btrain], [blawn_mower, brocket, btank]]]_m.002.h5'\n",
            "'c_[[[bbus, bpickup_truck, btrain], [blawn_mower, brocket, btractor]]]_m.001.h5'\n",
            "'c_[[[bbus, bpickup_truck, btrain], [blawn_mower, brocket, btractor]]]_m.002.h5'\n",
            "'c_[[[bbus, bpickup_truck, btrain], [blawn_mower, bstreetcar, btank]]]_m.001.h5'\n",
            "'c_[[[bbus, bpickup_truck, btrain], [blawn_mower, bstreetcar, btank]]]_m.004.h5'\n",
            "'c_[[[bbus, bpickup_truck, btrain], [blawn_mower, bstreetcar, btank]]]_m.017.h5'\n",
            "'c_[[[bbus, bpickup_truck, btrain], [blawn_mower, bstreetcar, btank]]]_m.024.h5'\n",
            "'c_[[[bbus, bpickup_truck, btrain], [blawn_mower, bstreetcar, btractor]]]_m.001.h5'\n",
            "'c_[[[bbus, bpickup_truck, btrain], [blawn_mower, bstreetcar, btractor]]]_m.002.h5'\n",
            "'c_[[[bbus, bpickup_truck, btrain], [blawn_mower, bstreetcar, btractor]]]_m.009.h5'\n",
            "'c_[[[bbus, bpickup_truck, btrain], [blawn_mower, bstreetcar, btractor]]]_m.010.h5'\n",
            "'c_[[[bbus, bpickup_truck, btrain], [blawn_mower, btank, btractor]]]_m.001.h5'\n",
            "'c_[[[bbus, bpickup_truck, btrain], [blawn_mower, btank, btractor]]]_m.003.h5'\n",
            "'c_[[[bbus, bpickup_truck, btrain], [blawn_mower, btank, btractor]]]_m.010.h5'\n",
            "'c_[[[bbus, bpickup_truck, btrain], [blawn_mower, btank, btractor]]]_m.012.h5'\n",
            "'c_[[[bbus, bpickup_truck, btrain], [blawn_mower, btank, btractor]]]_m.016.h5'\n",
            "'c_[[[bbus, bpickup_truck, btrain], [blawn_mower, btank, btractor]]]_m.017.h5'\n",
            "'c_[[[bbus, bpickup_truck, btrain], [brocket, bstreetcar, btank]]]_m.001.h5'\n",
            "'c_[[[bbus, bpickup_truck, btrain], [brocket, bstreetcar, btank]]]_m.017.h5'\n",
            "'c_[[[bbus, bpickup_truck, btrain], [brocket, bstreetcar, btank]]]_m.018.h5'\n",
            "'c_[[[bbus, bpickup_truck, btrain], [brocket, bstreetcar, btank]]]_m.019.h5'\n",
            "'c_[[[bbus, bpickup_truck, btrain], [brocket, bstreetcar, btank]]]_m.020.h5'\n",
            "'c_[[[bbus, bpickup_truck, btrain], [brocket, bstreetcar, btank]]]_m.021.h5'\n",
            "'c_[[[bbus, bpickup_truck, btrain], [brocket, bstreetcar, btank]]]_m.022.h5'\n",
            "'c_[[[bbus, bpickup_truck, btrain], [brocket, bstreetcar, btractor]]]_m.001.h5'\n",
            "'c_[[[bbus, bpickup_truck, btrain], [brocket, bstreetcar, btractor]]]_m.014.h5'\n",
            "'c_[[[bbus, bpickup_truck, btrain], [brocket, btank, btractor]]]_m.001.h5'\n",
            "'c_[[[bbus, bpickup_truck, btrain], [brocket, btank, btractor]]]_m.003.h5'\n",
            "'c_[[[bbus, bpickup_truck, btrain], [brocket, btank, btractor]]]_m.009.h5'\n",
            "'c_[[[bbus, bpickup_truck, btrain], [bstreetcar, brocket, blawn_mower]]]_m.001.h5'\n",
            "'c_[[[bbus, bpickup_truck, btrain], [bstreetcar, brocket, blawn_mower]]]_m.002.h5'\n",
            "'c_[[[bmotorcycle, bbus, bbicycle], [blawn_mower, brocket, bstreetcar]]]_m.001.h5'\n",
            "'c_[[[bmotorcycle, bbus, bbicycle], [blawn_mower, brocket, bstreetcar]]]_m.004.h5'\n",
            "'c_[[[bmotorcycle, bbus, bbicycle], [blawn_mower, brocket, bstreetcar]]]_m.005.h5'\n",
            "'c_[[[bmotorcycle, bbus, bbicycle], [blawn_mower, brocket, bstreetcar]]]_m.006.h5'\n",
            "'c_[[[bmotorcycle, bbus, bbicycle], [blawn_mower, brocket, bstreetcar]]]_m.007.h5'\n",
            "'c_[[[bmotorcycle, bbus, bbicycle], [blawn_mower, brocket, bstreetcar]]]_m.008.h5'\n",
            "'c_[[[bmotorcycle, bbus, bbicycle], [blawn_mower, brocket, btank]]]_m.001.h5'\n",
            "'c_[[[bmotorcycle, bbus, bbicycle], [blawn_mower, brocket, btank]]]_m.002.h5'\n",
            "'c_[[[bmotorcycle, bbus, bbicycle], [blawn_mower, brocket, btank]]]_m.011.h5'\n",
            "'c_[[[bmotorcycle, bbus, bbicycle], [blawn_mower, brocket, btank]]]_m.012.h5'\n",
            "'c_[[[bmotorcycle, bbus, bbicycle], [blawn_mower, brocket, btank]]]_m.013.h5'\n",
            "'c_[[[bmotorcycle, bbus, bbicycle], [blawn_mower, brocket, btractor]]]_m.001.h5'\n",
            "'c_[[[bmotorcycle, bbus, bbicycle], [blawn_mower, brocket, btractor]]]_m.003.h5'\n",
            "'c_[[[bmotorcycle, bbus, bbicycle], [blawn_mower, brocket, btractor]]]_m.007.h5'\n",
            "'c_[[[bmotorcycle, bbus, bbicycle], [blawn_mower, brocket, btractor]]]_m.011.h5'\n",
            "'c_[[[bmotorcycle, bbus, bbicycle], [blawn_mower, bstreetcar, btank]]]_m.001.h5'\n",
            "'c_[[[bmotorcycle, bbus, bbicycle], [blawn_mower, bstreetcar, btank]]]_m.008.h5'\n",
            "'c_[[[bmotorcycle, bbus, bbicycle], [blawn_mower, bstreetcar, btank]]]_m.009.h5'\n",
            "'c_[[[bmotorcycle, bbus, bbicycle], [blawn_mower, bstreetcar, btank]]]_m.010.h5'\n",
            "'c_[[[bmotorcycle, bbus, bbicycle], [blawn_mower, bstreetcar, btractor]]]_m.001.h5'\n",
            "'c_[[[bmotorcycle, bbus, bbicycle], [blawn_mower, bstreetcar, btractor]]]_m.009.h5'\n",
            "'c_[[[bmotorcycle, bbus, bbicycle], [blawn_mower, bstreetcar, btractor]]]_m.010.h5'\n",
            "'c_[[[bmotorcycle, bbus, bbicycle], [blawn_mower, bstreetcar, btractor]]]_m.015.h5'\n",
            "'c_[[[bmotorcycle, bbus, bbicycle], [blawn_mower, bstreetcar, btractor]]]_m.016.h5'\n",
            "'c_[[[bmotorcycle, bbus, bbicycle], [blawn_mower, bstreetcar, btractor]]]_m.017.h5'\n",
            "'c_[[[bmotorcycle, bbus, bbicycle], [blawn_mower, bstreetcar, btractor]]]_m.021.h5'\n",
            "'c_[[[bmotorcycle, bbus, bbicycle], [blawn_mower, bstreetcar, btractor]]]_m.024.h5'\n",
            "'c_[[[bmotorcycle, bbus, bbicycle], [blawn_mower, btank, btractor]]]_m.001.h5'\n",
            "'c_[[[bmotorcycle, bbus, bbicycle], [blawn_mower, btank, btractor]]]_m.002.h5'\n",
            "'c_[[[bmotorcycle, bbus, bbicycle], [blawn_mower, btank, btractor]]]_m.013.h5'\n",
            "'c_[[[bmotorcycle, bbus, bbicycle], [blawn_mower, btank, btractor]]]_m.014.h5'\n",
            "'c_[[[bmotorcycle, bbus, bbicycle], [blawn_mower, btank, btractor]]]_m.015.h5'\n",
            "'c_[[[bmotorcycle, bbus, bbicycle], [blawn_mower, btank, btractor]]]_m.021.h5'\n",
            "'c_[[[bmotorcycle, bbus, bbicycle], [blawn_mower, btank, btractor]]]_m.022.h5'\n",
            "'c_[[[bmotorcycle, bbus, bbicycle], [brocket, bstreetcar, btank]]]_m.001.h5'\n",
            "'c_[[[bmotorcycle, bbus, bbicycle], [brocket, bstreetcar, btank]]]_m.009.h5'\n",
            "'c_[[[bmotorcycle, bbus, bbicycle], [brocket, bstreetcar, btank]]]_m.010.h5'\n",
            "'c_[[[bmotorcycle, bbus, bbicycle], [brocket, bstreetcar, btank]]]_m.011.h5'\n",
            "'c_[[[bmotorcycle, bbus, bbicycle], [brocket, bstreetcar, btank]]]_m.012.h5'\n",
            "'c_[[[bmotorcycle, bbus, bbicycle], [brocket, bstreetcar, btractor]]]_m.001.h5'\n",
            "'c_[[[bmotorcycle, bbus, bbicycle], [brocket, bstreetcar, btractor]]]_m.006.h5'\n",
            "'c_[[[bmotorcycle, bbus, bbicycle], [brocket, bstreetcar, btractor]]]_m.008.h5'\n",
            "'c_[[[bmotorcycle, bbus, bbicycle], [brocket, bstreetcar, btractor]]]_m.009.h5'\n",
            "'c_[[[bmotorcycle, bbus, bbicycle], [brocket, btank, btractor]]]_m.001.h5'\n",
            "'c_[[[bmotorcycle, bbus, bbicycle], [brocket, btank, btractor]]]_m.005.h5'\n",
            "'c_[[[bmotorcycle, bbus, bbicycle], [brocket, btank, btractor]]]_m.008.h5'\n",
            "'c_[[[bmotorcycle, bbus, bbicycle], [brocket, btank, btractor]]]_m.009.h5'\n",
            "'c_[[[bmotorcycle, bbus, bbicycle], [brocket, btank, btractor]]]_m.010.h5'\n",
            "'c_[[[bmotorcycle, bbus, bbicycle], [brocket, btank, btractor]]]_m.011.h5'\n",
            "'c_[[[bmotorcycle, bbus, bbicycle], [brocket, btank, btractor]]]_m.013.h5'\n",
            "'c_[[[bmotorcycle, bbus, bbicycle], [bstreetcar, brocket, blawn_mower]]]_m.001.h5'\n",
            "'c_[[[bmotorcycle, bbus, bbicycle], [bstreetcar, brocket, blawn_mower]]]_m.004.h5'\n",
            "'c_[[[bmotorcycle, bbus, bbicycle], [bstreetcar, brocket, blawn_mower]]]_m.005.h5'\n",
            "'c_[[[bmotorcycle, bbus, bbicycle], [bstreetcar, brocket, blawn_mower]]]_m.006.h5'\n",
            "'c_[[[bmotorcycle, bbus, bbicycle], [bstreetcar, brocket, blawn_mower]]]_m.007.h5'\n",
            "'c_[[[bmotorcycle, bbus, bbicycle], [bstreetcar, brocket, blawn_mower]]]_m.008.h5'\n",
            "'c_[[[bmotorcycle, bbus, bbicycle], [bstreetcar, brocket, blawn_mower]]]_m.010.h5'\n"
          ],
          "name": "stdout"
        }
      ]
    },
    {
      "cell_type": "code",
      "metadata": {
        "id": "9_F-3utqbg0I",
        "colab_type": "code",
        "colab": {}
      },
      "source": [
        "v1s1 = b'bicycle'\n",
        "v1s2 = b'pickup_truck'\n",
        "v1s3 = b'train'\n",
        "v2s1 = b'rocket'\n",
        "v2s2 = b'tank'\n",
        "v3s3 = b'tractor'\n",
        "testset1 = data[( (data['Subtar']==v1s1) | (data['Subtar']==v1s2) ) | (data['Subtar']==v1s3) |(data['Subtar']==v2s1)  | (data['Subtar']==v2s2) |(data['Subtar']==v2s3) ]\n",
        "X_test = testset1.drop(['Subtar','Target'],axis=1)\n",
        "y_test = testset1['Target']\n",
        "X_test = X_test.astype('float32')\n",
        "X_test /= 255.0\n",
        "y_test = pd.get_dummies(y_test,drop_first=True)\n",
        "X_test = X_test.values\n",
        "X_test = X_test.reshape(X_test.shape[0],3,32,32)\n",
        "y_test = to_categorical(y_test,num_classes=2)"
      ],
      "execution_count": 0,
      "outputs": []
    },
    {
      "cell_type": "code",
      "metadata": {
        "id": "yyj3GZ_8Put9",
        "colab_type": "code",
        "outputId": "4caa9c7b-f67b-4795-ff7e-b0c72df898cb",
        "colab": {
          "base_uri": "https://localhost:8080/",
          "height": 35
        }
      },
      "source": [
        "y_test.shape\n"
      ],
      "execution_count": 0,
      "outputs": [
        {
          "output_type": "execute_result",
          "data": {
            "text/plain": [
              "(3600, 2)"
            ]
          },
          "metadata": {
            "tags": []
          },
          "execution_count": 78
        }
      ]
    },
    {
      "cell_type": "code",
      "metadata": {
        "id": "p62AG1jjKAnS",
        "colab_type": "code",
        "outputId": "1975dcc6-23c0-45c2-c9e6-00d5ad007b85",
        "colab": {
          "base_uri": "https://localhost:8080/",
          "height": 35
        }
      },
      "source": [
        "bestmodel = load_model('/content/saved_models/c_[[[bbicycle, bpickup_truck, btrain], [brocket, btank, btractor]]]_m.019.h5')\n",
        "scores = bestmodel.evaluate(X_test, y_test, verbose=0)\n",
        "print(\"Accuracy: %.2f%%\" % (scores[1]*100))"
      ],
      "execution_count": 0,
      "outputs": [
        {
          "output_type": "stream",
          "text": [
            "Accuracy: 64.58%\n"
          ],
          "name": "stdout"
        }
      ]
    },
    {
      "cell_type": "code",
      "metadata": {
        "id": "Rvd8VanfZ8Tb",
        "colab_type": "code",
        "outputId": "b8e81201-b56a-4d23-f046-6f6e39d319b1",
        "colab": {
          "base_uri": "https://localhost:8080/",
          "height": 325
        }
      },
      "source": [
        "from sklearn.metrics import classification_report, confusion_matrix\n",
        "Y_pred = bestmodel.predict(X_test, verbose=2)\n",
        "y_pred = np.argmax(Y_pred, axis=1)\n",
        "\n",
        "cm = confusion_matrix(np.argmax(y_test,axis=1),y_pred)\n",
        "plt.clf()\n",
        "plt.imshow(cm, interpolation='nearest', cmap=plt.cm.Wistia)\n",
        "classNames = ['Negative','Positive']\n",
        "plt.title('Confusion Matrix - Test Data')\n",
        "plt.ylabel('True label')\n",
        "plt.xlabel('Predicted label')\n",
        "tick_marks = np.arange(len(classNames))\n",
        "plt.xticks(tick_marks, classNames, rotation=45)\n",
        "plt.yticks(tick_marks, classNames)\n",
        "s = [['TN','FP'], ['FN', 'TP']]\n",
        "for i in range(2):\n",
        "  for j in range(2):\n",
        "    plt.text(j,i, str(s[i][j])+\" = \"+str(cm[i][j]))\n",
        "plt.show()"
      ],
      "execution_count": 0,
      "outputs": [
        {
          "output_type": "display_data",
          "data": {
            "image/png": "[encoded data removed]",
            "text/plain": [
              "<Figure size 432x288 with 1 Axes>"
            ]
          },
          "metadata": {
            "tags": []
          }
        }
      ]
    },
    {
      "cell_type": "code",
      "metadata": {
        "id": "cVC8P4DuaCNq",
        "colab_type": "code",
        "outputId": "b82fecda-cde7-441d-8f1e-3794ec184a13",
        "colab": {
          "base_uri": "https://localhost:8080/",
          "height": 173
        }
      },
      "source": [
        "from sklearn.metrics import classification_report\n",
        "cp = classification_report(np.argmax(y_test,axis=1),y_pred)\n",
        "print(cp)"
      ],
      "execution_count": 0,
      "outputs": [
        {
          "output_type": "stream",
          "text": [
            "              precision    recall  f1-score   support\n",
            "\n",
            "           0       0.63      0.70      0.66      1800\n",
            "           1       0.66      0.60      0.63      1800\n",
            "\n",
            "   micro avg       0.65      0.65      0.65      3600\n",
            "   macro avg       0.65      0.65      0.64      3600\n",
            "weighted avg       0.65      0.65      0.64      3600\n",
            "\n"
          ],
          "name": "stdout"
        }
      ]
    },
    {
      "cell_type": "code",
      "metadata": {
        "id": "7fwwKfNUaKvT",
        "colab_type": "code",
        "colab": {}
      },
      "source": [
        "#print out randomly selected images(black/red labl-->correct/wrong prediction )\n",
        "def cifar_grid_c(X,Y,inds,n_col, predictions=None):\n",
        "  if predictions is not None:\n",
        "    if Y.shape != predictions.shape:\n",
        "      print(\"Predictions must equal Y in length!\")\n",
        "      return(None)\n",
        "  N = len(inds)\n",
        "  n_row = int(ceil(1.0*N/n_col))\n",
        "  fig, axes = plt.subplots(n_row,n_col,figsize=(10,10))\n",
        "  \n",
        "#  clabels = labels[\"label_names\"]\n",
        "  clabels = ['vehicles 1','vehicles 2']\n",
        "  print(type(clabels))\n",
        "  for j in range(n_row):\n",
        "    for k in range(n_col):\n",
        "      i_inds = (j*n_col)+k\n",
        "      i_data = inds[i_inds]\n",
        "      \n",
        "     # axes[j][k].set_axis_off()\n",
        "      if i_inds < N:\n",
        "        rgb = X[[i_data,...]]\n",
        "        #print(rgb.shape)\n",
        "        img = rgb.reshape(3,32,32).transpose([1, 2, 0])\n",
        "        axes[j][k].imshow(img, interpolation='nearest')\n",
        "        label = clabels[np.argmax(Y[i_data,...])]\n",
        "        axes[j][k].set_title(label)\n",
        "        if predictions is not None:\n",
        "          pred = clabels[np.argmax(predictions[i_data,...])]\n",
        "          if label != pred:\n",
        "            label += \" n\"\n",
        "            axes[j][k].set_title(pred, color='red')            \n",
        "  \n",
        "  fig.set_tight_layout(True)"
      ],
      "execution_count": 0,
      "outputs": []
    },
    {
      "cell_type": "code",
      "metadata": {
        "id": "bcnyIA6FxDGx",
        "colab_type": "code",
        "outputId": "d5d46f5e-04b0-4944-8ec9-edb25b6343f0",
        "colab": {
          "base_uri": "https://localhost:8080/",
          "height": 747
        }
      },
      "source": [
        "num_predictions = 36\n",
        "predict_gen = bestmodel.predict_generator(datagen.flow(X_test, y_test,\n",
        "    batch_size=256, shuffle=False),\n",
        "    steps=(X_test.shape[0] // 256)+1, workers=4)\n",
        "\n",
        "indices = [np.random.choice(range(len(X_test))) \n",
        "           for i in range(num_predictions)]\n",
        "\n",
        "cifar_grid_c(X_test,y_test,indices,6, predictions=predict_gen)"
      ],
      "execution_count": 0,
      "outputs": [
        {
          "output_type": "stream",
          "text": [
            "<class 'list'>\n"
          ],
          "name": "stdout"
        },
        {
          "output_type": "display_data",
          "data": {
            "image/png": "[encoded data removed]",
            "text/plain": [
              "<Figure size 720x720 with 36 Axes>"
            ]
          },
          "metadata": {
            "tags": []
          }
        }
      ]
    },
    {
      "cell_type": "code",
      "metadata": {
        "id": "LUYzVu8VyH_Y",
        "colab_type": "code",
        "outputId": "3a4bbf0a-85f3-41dd-c80e-8dae284f9220",
        "colab": {
          "base_uri": "https://localhost:8080/",
          "height": 525
        }
      },
      "source": [
        "from sklearn.metrics import roc_curve, auc\n",
        "fpr, tpr, _ = roc_curve(np.argmax(y_test,axis=1),y_pred)\n",
        "roc_auc = auc(fpr, tpr)\n",
        "\n",
        "plt.figure(figsize=[8,8])\n",
        "plt.plot(fpr, tpr, label='ROC curve (area = %0.2f)' % roc_auc, linewidth=4)\n",
        "plt.plot([0, 1], [0, 1], 'k--', linewidth=4)\n",
        "plt.xlim([-0.05, 1.0])\n",
        "plt.ylim([-0.05, 1.05])\n",
        "plt.xlabel('False Positive Rate', fontsize=18)\n",
        "plt.ylabel('True Positive Rate', fontsize=18)\n",
        "plt.title('Receiver operating characteristic curve', fontsize=18)\n",
        "plt.legend(loc=\"lower right\")\n",
        "plt.show()"
      ],
      "execution_count": 0,
      "outputs": [
        {
          "output_type": "display_data",
          "data": {
            "image/png": "[encoded data removed]",
            "text/plain": [
              "<Figure size 576x576 with 1 Axes>"
            ]
          },
          "metadata": {
            "tags": []
          }
        }
      ]
    },
    {
      "cell_type": "code",
      "metadata": {
        "id": "N6ZZ7q45-X_R",
        "colab_type": "code",
        "colab": {}
      },
      "source": [
        ""
      ],
      "execution_count": 0,
      "outputs": []
    }
  ]
}